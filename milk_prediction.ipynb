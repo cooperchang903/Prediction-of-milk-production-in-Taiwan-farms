{
 "cells": [
  {
   "cell_type": "markdown",
   "metadata": {},
   "source": [
    "# Importing packages"
   ]
  },
  {
   "cell_type": "code",
   "execution_count": 67,
   "metadata": {},
   "outputs": [],
   "source": [
    "#invite people for the Kaggle party\n",
    "import pandas as pd\n",
    "import matplotlib.pyplot as plt\n",
    "import seaborn as sns\n",
    "import numpy as np\n",
    "import warnings\n",
    "warnings.filterwarnings('ignore')\n",
    "%matplotlib inline"
   ]
  },
  {
   "cell_type": "markdown",
   "metadata": {},
   "source": [
    "# Reading Data"
   ]
  },
  {
   "cell_type": "code",
   "execution_count": 68,
   "metadata": {},
   "outputs": [
    {
     "data": {
      "text/html": [
       "<div>\n",
       "<style scoped>\n",
       "    .dataframe tbody tr th:only-of-type {\n",
       "        vertical-align: middle;\n",
       "    }\n",
       "\n",
       "    .dataframe tbody tr th {\n",
       "        vertical-align: top;\n",
       "    }\n",
       "\n",
       "    .dataframe thead th {\n",
       "        text-align: right;\n",
       "    }\n",
       "</style>\n",
       "<table border=\"1\" class=\"dataframe\">\n",
       "  <thead>\n",
       "    <tr style=\"text-align: right;\">\n",
       "      <th></th>\n",
       "      <th>1</th>\n",
       "      <th>2</th>\n",
       "      <th>3</th>\n",
       "      <th>FarmID</th>\n",
       "      <th>CowID</th>\n",
       "      <th>SpermID</th>\n",
       "      <th>MotherID</th>\n",
       "      <th>8</th>\n",
       "      <th>Parity</th>\n",
       "      <th>LactationDays</th>\n",
       "      <th>...</th>\n",
       "      <th>LastParturitionDays</th>\n",
       "      <th>13</th>\n",
       "      <th>MonthAge</th>\n",
       "      <th>15</th>\n",
       "      <th>LastBreedingDate</th>\n",
       "      <th>LastSperm</th>\n",
       "      <th>BreedingTimes</th>\n",
       "      <th>19</th>\n",
       "      <th>20</th>\n",
       "      <th>FirstSperm</th>\n",
       "    </tr>\n",
       "  </thead>\n",
       "  <tbody>\n",
       "    <tr>\n",
       "      <th>0</th>\n",
       "      <td>1</td>\n",
       "      <td>2013</td>\n",
       "      <td>3</td>\n",
       "      <td>A</td>\n",
       "      <td>52612</td>\n",
       "      <td>507H7173</td>\n",
       "      <td>96040545</td>\n",
       "      <td>2011/1/1 00:00</td>\n",
       "      <td>1</td>\n",
       "      <td>78.0</td>\n",
       "      <td>...</td>\n",
       "      <td>2013/1/1 00:00</td>\n",
       "      <td>2013/3/20 00:00</td>\n",
       "      <td>26</td>\n",
       "      <td>2013/3/21 00:00</td>\n",
       "      <td>2015/5/5 00:00</td>\n",
       "      <td>507H11621</td>\n",
       "      <td>1</td>\n",
       "      <td>NaN</td>\n",
       "      <td>2013/3/5 00:00</td>\n",
       "      <td>501H8784</td>\n",
       "    </tr>\n",
       "    <tr>\n",
       "      <th>1</th>\n",
       "      <td>2</td>\n",
       "      <td>2013</td>\n",
       "      <td>4</td>\n",
       "      <td>A</td>\n",
       "      <td>52612</td>\n",
       "      <td>507H7173</td>\n",
       "      <td>96040545</td>\n",
       "      <td>2011/1/1 00:00</td>\n",
       "      <td>1</td>\n",
       "      <td>107.0</td>\n",
       "      <td>...</td>\n",
       "      <td>2013/1/1 00:00</td>\n",
       "      <td>2013/4/18 00:00</td>\n",
       "      <td>27</td>\n",
       "      <td>2013/4/19 00:00</td>\n",
       "      <td>2015/5/5 00:00</td>\n",
       "      <td>507H11621</td>\n",
       "      <td>1</td>\n",
       "      <td>NaN</td>\n",
       "      <td>2013/3/5 00:00</td>\n",
       "      <td>501H8784</td>\n",
       "    </tr>\n",
       "    <tr>\n",
       "      <th>2</th>\n",
       "      <td>3</td>\n",
       "      <td>2013</td>\n",
       "      <td>5</td>\n",
       "      <td>A</td>\n",
       "      <td>52612</td>\n",
       "      <td>507H7173</td>\n",
       "      <td>96040545</td>\n",
       "      <td>2011/1/1 00:00</td>\n",
       "      <td>1</td>\n",
       "      <td>140.0</td>\n",
       "      <td>...</td>\n",
       "      <td>2013/1/1 00:00</td>\n",
       "      <td>2013/5/21 00:00</td>\n",
       "      <td>28</td>\n",
       "      <td>2013/5/22 00:00</td>\n",
       "      <td>2015/5/5 00:00</td>\n",
       "      <td>507H11621</td>\n",
       "      <td>2</td>\n",
       "      <td>NaN</td>\n",
       "      <td>2013/3/5 00:00</td>\n",
       "      <td>501H8784</td>\n",
       "    </tr>\n",
       "    <tr>\n",
       "      <th>3</th>\n",
       "      <td>4</td>\n",
       "      <td>2013</td>\n",
       "      <td>6</td>\n",
       "      <td>A</td>\n",
       "      <td>52612</td>\n",
       "      <td>507H7173</td>\n",
       "      <td>96040545</td>\n",
       "      <td>2011/1/1 00:00</td>\n",
       "      <td>1</td>\n",
       "      <td>175.0</td>\n",
       "      <td>...</td>\n",
       "      <td>2013/1/1 00:00</td>\n",
       "      <td>2013/6/25 00:00</td>\n",
       "      <td>29</td>\n",
       "      <td>2013/6/26 00:00</td>\n",
       "      <td>2015/5/5 00:00</td>\n",
       "      <td>507H11621</td>\n",
       "      <td>2</td>\n",
       "      <td>NaN</td>\n",
       "      <td>2013/3/5 00:00</td>\n",
       "      <td>501H8784</td>\n",
       "    </tr>\n",
       "    <tr>\n",
       "      <th>4</th>\n",
       "      <td>5</td>\n",
       "      <td>2013</td>\n",
       "      <td>7</td>\n",
       "      <td>A</td>\n",
       "      <td>52612</td>\n",
       "      <td>507H7173</td>\n",
       "      <td>96040545</td>\n",
       "      <td>2011/1/1 00:00</td>\n",
       "      <td>1</td>\n",
       "      <td>210.0</td>\n",
       "      <td>...</td>\n",
       "      <td>2013/1/1 00:00</td>\n",
       "      <td>2013/7/30 00:00</td>\n",
       "      <td>30</td>\n",
       "      <td>2013/7/31 00:00</td>\n",
       "      <td>2015/5/5 00:00</td>\n",
       "      <td>507H11621</td>\n",
       "      <td>2</td>\n",
       "      <td>NaN</td>\n",
       "      <td>2013/3/5 00:00</td>\n",
       "      <td>501H8784</td>\n",
       "    </tr>\n",
       "  </tbody>\n",
       "</table>\n",
       "<p>5 rows × 21 columns</p>\n",
       "</div>"
      ],
      "text/plain": [
       "   1     2  3 FarmID  CowID   SpermID  MotherID               8  Parity  \\\n",
       "0  1  2013  3      A  52612  507H7173  96040545  2011/1/1 00:00       1   \n",
       "1  2  2013  4      A  52612  507H7173  96040545  2011/1/1 00:00       1   \n",
       "2  3  2013  5      A  52612  507H7173  96040545  2011/1/1 00:00       1   \n",
       "3  4  2013  6      A  52612  507H7173  96040545  2011/1/1 00:00       1   \n",
       "4  5  2013  7      A  52612  507H7173  96040545  2011/1/1 00:00       1   \n",
       "\n",
       "   LactationDays  ...  LastParturitionDays               13 MonthAge  \\\n",
       "0           78.0  ...       2013/1/1 00:00  2013/3/20 00:00       26   \n",
       "1          107.0  ...       2013/1/1 00:00  2013/4/18 00:00       27   \n",
       "2          140.0  ...       2013/1/1 00:00  2013/5/21 00:00       28   \n",
       "3          175.0  ...       2013/1/1 00:00  2013/6/25 00:00       29   \n",
       "4          210.0  ...       2013/1/1 00:00  2013/7/30 00:00       30   \n",
       "\n",
       "                15 LastBreedingDate  LastSperm BreedingTimes   19  \\\n",
       "0  2013/3/21 00:00   2015/5/5 00:00  507H11621             1  NaN   \n",
       "1  2013/4/19 00:00   2015/5/5 00:00  507H11621             1  NaN   \n",
       "2  2013/5/22 00:00   2015/5/5 00:00  507H11621             2  NaN   \n",
       "3  2013/6/26 00:00   2015/5/5 00:00  507H11621             2  NaN   \n",
       "4  2013/7/31 00:00   2015/5/5 00:00  507H11621             2  NaN   \n",
       "\n",
       "               20 FirstSperm  \n",
       "0  2013/3/5 00:00   501H8784  \n",
       "1  2013/3/5 00:00   501H8784  \n",
       "2  2013/3/5 00:00   501H8784  \n",
       "3  2013/3/5 00:00   501H8784  \n",
       "4  2013/3/5 00:00   501H8784  \n",
       "\n",
       "[5 rows x 21 columns]"
      ]
     },
     "execution_count": 68,
     "metadata": {},
     "output_type": "execute_result"
    }
   ],
   "source": [
    "#Read train data and test data\n",
    "raw_report = pd.read_csv('./input/report.csv')\n",
    "\n",
    "# 重新命名欄位\n",
    "raw_report = raw_report.rename(columns={\"4\": \"FarmID\", \"5\": \"CowID\", \"6\": \"SpermID\", \"7\": \"MotherID\", \"9\": \"Parity\", \"10\": \"LactationDays\", \n",
    "                                        \"11\": \"MilkYield\", \"12\": \"LastParturitionDays\", \"14\": \"MonthAge\", \"16\": \"LastBreedingDate\",\n",
    "                                        \"17\": \"LastSperm\", \"18\": \"BreedingTimes\", \"21\": \"FirstSperm\"})\n",
    "\n",
    "# 乳牛編號轉為字串\n",
    "raw_report['CowID'] = raw_report['CowID'].astype(str)\n",
    "raw_report.head()"
   ]
  },
  {
   "cell_type": "code",
   "execution_count": 69,
   "metadata": {},
   "outputs": [
    {
     "data": {
      "text/plain": [
       "(37517, 21)"
      ]
     },
     "execution_count": 69,
     "metadata": {},
     "output_type": "execute_result"
    }
   ],
   "source": [
    "raw_report.shape"
   ]
  },
  {
   "cell_type": "code",
   "execution_count": 70,
   "metadata": {},
   "outputs": [
    {
     "name": "stdout",
     "output_type": "stream",
     "text": [
      "NullFirstBreedingDateShape: \n",
      "(1431, 21)\n",
      "NullLastBreedingDateShape: \n",
      "(1536, 21)\n",
      "NullFirstSpermShape: \n",
      "(1431, 21)\n",
      "NullLastSpermShape: \n",
      "(1536, 21)\n"
     ]
    }
   ],
   "source": [
    "# 配種日期，精液是否有空值\n",
    "print(\"NullFirstBreedingDateShape: \")\n",
    "print(raw_report[raw_report['20'].isnull()].shape)\n",
    "print(\"NullLastBreedingDateShape: \")\n",
    "print(raw_report[raw_report['LastBreedingDate'].isnull()].shape)\n",
    "print(\"NullFirstSpermShape: \")\n",
    "print(raw_report[raw_report['FirstSperm'].isnull()].shape)\n",
    "print(\"NullLastSpermShape: \")\n",
    "print(raw_report[raw_report['LastSperm'].isnull()].shape)"
   ]
  },
  {
   "cell_type": "code",
   "execution_count": 71,
   "metadata": {},
   "outputs": [
    {
     "data": {
      "text/html": [
       "<div>\n",
       "<style scoped>\n",
       "    .dataframe tbody tr th:only-of-type {\n",
       "        vertical-align: middle;\n",
       "    }\n",
       "\n",
       "    .dataframe tbody tr th {\n",
       "        vertical-align: top;\n",
       "    }\n",
       "\n",
       "    .dataframe thead th {\n",
       "        text-align: right;\n",
       "    }\n",
       "</style>\n",
       "<table border=\"1\" class=\"dataframe\">\n",
       "  <thead>\n",
       "    <tr style=\"text-align: right;\">\n",
       "      <th></th>\n",
       "      <th>1</th>\n",
       "      <th>2</th>\n",
       "      <th>3</th>\n",
       "      <th>FarmID</th>\n",
       "      <th>CowID</th>\n",
       "      <th>SpermID</th>\n",
       "      <th>MotherID</th>\n",
       "      <th>8</th>\n",
       "      <th>Parity</th>\n",
       "      <th>LactationDays</th>\n",
       "      <th>...</th>\n",
       "      <th>13</th>\n",
       "      <th>MonthAge</th>\n",
       "      <th>15</th>\n",
       "      <th>LastBreedingDate</th>\n",
       "      <th>LastSperm</th>\n",
       "      <th>BreedingTimes</th>\n",
       "      <th>19</th>\n",
       "      <th>20</th>\n",
       "      <th>FirstSperm</th>\n",
       "      <th>MilkYield</th>\n",
       "    </tr>\n",
       "  </thead>\n",
       "  <tbody>\n",
       "    <tr>\n",
       "      <th>0</th>\n",
       "      <td>1</td>\n",
       "      <td>2013</td>\n",
       "      <td>3</td>\n",
       "      <td>A</td>\n",
       "      <td>52612</td>\n",
       "      <td>507H7173</td>\n",
       "      <td>96040545</td>\n",
       "      <td>2011/1/1 00:00</td>\n",
       "      <td>1</td>\n",
       "      <td>78.0</td>\n",
       "      <td>...</td>\n",
       "      <td>2013/3/20 00:00</td>\n",
       "      <td>26</td>\n",
       "      <td>2013/3/21 00:00</td>\n",
       "      <td>2015/5/5 00:00</td>\n",
       "      <td>507H11621</td>\n",
       "      <td>1</td>\n",
       "      <td>NaN</td>\n",
       "      <td>2013/3/5 00:00</td>\n",
       "      <td>501H8784</td>\n",
       "      <td>29.4</td>\n",
       "    </tr>\n",
       "    <tr>\n",
       "      <th>1</th>\n",
       "      <td>2</td>\n",
       "      <td>2013</td>\n",
       "      <td>4</td>\n",
       "      <td>A</td>\n",
       "      <td>52612</td>\n",
       "      <td>507H7173</td>\n",
       "      <td>96040545</td>\n",
       "      <td>2011/1/1 00:00</td>\n",
       "      <td>1</td>\n",
       "      <td>107.0</td>\n",
       "      <td>...</td>\n",
       "      <td>2013/4/18 00:00</td>\n",
       "      <td>27</td>\n",
       "      <td>2013/4/19 00:00</td>\n",
       "      <td>2015/5/5 00:00</td>\n",
       "      <td>507H11621</td>\n",
       "      <td>1</td>\n",
       "      <td>NaN</td>\n",
       "      <td>2013/3/5 00:00</td>\n",
       "      <td>501H8784</td>\n",
       "      <td>27.8</td>\n",
       "    </tr>\n",
       "    <tr>\n",
       "      <th>2</th>\n",
       "      <td>3</td>\n",
       "      <td>2013</td>\n",
       "      <td>5</td>\n",
       "      <td>A</td>\n",
       "      <td>52612</td>\n",
       "      <td>507H7173</td>\n",
       "      <td>96040545</td>\n",
       "      <td>2011/1/1 00:00</td>\n",
       "      <td>1</td>\n",
       "      <td>140.0</td>\n",
       "      <td>...</td>\n",
       "      <td>2013/5/21 00:00</td>\n",
       "      <td>28</td>\n",
       "      <td>2013/5/22 00:00</td>\n",
       "      <td>2015/5/5 00:00</td>\n",
       "      <td>507H11621</td>\n",
       "      <td>2</td>\n",
       "      <td>NaN</td>\n",
       "      <td>2013/3/5 00:00</td>\n",
       "      <td>501H8784</td>\n",
       "      <td>9.0</td>\n",
       "    </tr>\n",
       "    <tr>\n",
       "      <th>3</th>\n",
       "      <td>4</td>\n",
       "      <td>2013</td>\n",
       "      <td>6</td>\n",
       "      <td>A</td>\n",
       "      <td>52612</td>\n",
       "      <td>507H7173</td>\n",
       "      <td>96040545</td>\n",
       "      <td>2011/1/1 00:00</td>\n",
       "      <td>1</td>\n",
       "      <td>175.0</td>\n",
       "      <td>...</td>\n",
       "      <td>2013/6/25 00:00</td>\n",
       "      <td>29</td>\n",
       "      <td>2013/6/26 00:00</td>\n",
       "      <td>2015/5/5 00:00</td>\n",
       "      <td>507H11621</td>\n",
       "      <td>2</td>\n",
       "      <td>NaN</td>\n",
       "      <td>2013/3/5 00:00</td>\n",
       "      <td>501H8784</td>\n",
       "      <td>13.0</td>\n",
       "    </tr>\n",
       "    <tr>\n",
       "      <th>4</th>\n",
       "      <td>5</td>\n",
       "      <td>2013</td>\n",
       "      <td>7</td>\n",
       "      <td>A</td>\n",
       "      <td>52612</td>\n",
       "      <td>507H7173</td>\n",
       "      <td>96040545</td>\n",
       "      <td>2011/1/1 00:00</td>\n",
       "      <td>1</td>\n",
       "      <td>210.0</td>\n",
       "      <td>...</td>\n",
       "      <td>2013/7/30 00:00</td>\n",
       "      <td>30</td>\n",
       "      <td>2013/7/31 00:00</td>\n",
       "      <td>2015/5/5 00:00</td>\n",
       "      <td>507H11621</td>\n",
       "      <td>2</td>\n",
       "      <td>NaN</td>\n",
       "      <td>2013/3/5 00:00</td>\n",
       "      <td>501H8784</td>\n",
       "      <td>13.2</td>\n",
       "    </tr>\n",
       "  </tbody>\n",
       "</table>\n",
       "<p>5 rows × 21 columns</p>\n",
       "</div>"
      ],
      "text/plain": [
       "   1     2  3 FarmID  CowID   SpermID  MotherID               8  Parity  \\\n",
       "0  1  2013  3      A  52612  507H7173  96040545  2011/1/1 00:00       1   \n",
       "1  2  2013  4      A  52612  507H7173  96040545  2011/1/1 00:00       1   \n",
       "2  3  2013  5      A  52612  507H7173  96040545  2011/1/1 00:00       1   \n",
       "3  4  2013  6      A  52612  507H7173  96040545  2011/1/1 00:00       1   \n",
       "4  5  2013  7      A  52612  507H7173  96040545  2011/1/1 00:00       1   \n",
       "\n",
       "   LactationDays  ...               13 MonthAge               15  \\\n",
       "0           78.0  ...  2013/3/20 00:00       26  2013/3/21 00:00   \n",
       "1          107.0  ...  2013/4/18 00:00       27  2013/4/19 00:00   \n",
       "2          140.0  ...  2013/5/21 00:00       28  2013/5/22 00:00   \n",
       "3          175.0  ...  2013/6/25 00:00       29  2013/6/26 00:00   \n",
       "4          210.0  ...  2013/7/30 00:00       30  2013/7/31 00:00   \n",
       "\n",
       "  LastBreedingDate  LastSperm BreedingTimes   19              20 FirstSperm  \\\n",
       "0   2015/5/5 00:00  507H11621             1  NaN  2013/3/5 00:00   501H8784   \n",
       "1   2015/5/5 00:00  507H11621             1  NaN  2013/3/5 00:00   501H8784   \n",
       "2   2015/5/5 00:00  507H11621             2  NaN  2013/3/5 00:00   501H8784   \n",
       "3   2015/5/5 00:00  507H11621             2  NaN  2013/3/5 00:00   501H8784   \n",
       "4   2015/5/5 00:00  507H11621             2  NaN  2013/3/5 00:00   501H8784   \n",
       "\n",
       "  MilkYield  \n",
       "0      29.4  \n",
       "1      27.8  \n",
       "2       9.0  \n",
       "3      13.0  \n",
       "4      13.2  \n",
       "\n",
       "[5 rows x 21 columns]"
      ]
     },
     "execution_count": 71,
     "metadata": {},
     "output_type": "execute_result"
    }
   ],
   "source": [
    "# 將乳量欄位移動到最右邊\n",
    "m = raw_report.pop('MilkYield')\n",
    "raw_report.insert(raw_report.shape[1], 'MilkYield', m)\n",
    "raw_report.head()"
   ]
  },
  {
   "cell_type": "code",
   "execution_count": 72,
   "metadata": {},
   "outputs": [
    {
     "data": {
      "text/plain": [
       "0          2013/1/1 00:00\n",
       "1          2013/1/1 00:00\n",
       "2          2013/1/1 00:00\n",
       "3          2013/1/1 00:00\n",
       "4          2013/1/1 00:00\n",
       "               ...       \n",
       "37512    2012/11/16 00:00\n",
       "37513    2012/11/16 00:00\n",
       "37514    2012/11/16 00:00\n",
       "37515    2012/11/16 00:00\n",
       "37516    2012/11/16 00:00\n",
       "Name: 19, Length: 37517, dtype: object"
      ]
     },
     "execution_count": 72,
     "metadata": {},
     "output_type": "execute_result"
    }
   ],
   "source": [
    "# 如果前次分娩日期為空，填入最近分娩日期\n",
    "raw_report['19'].fillna(raw_report['LastParturitionDays'], inplace=True)\n",
    "raw_report['19']"
   ]
  },
  {
   "cell_type": "code",
   "execution_count": 73,
   "metadata": {},
   "outputs": [],
   "source": [
    "# 將最近分娩日期，採樣日期，最後配種日期，前次分娩日期，第一次配種日期從字串轉為日期格式\n",
    "raw_report['LastParturitionDays'] = pd.to_datetime(raw_report['LastParturitionDays'], format='%Y/%m/%d')\n",
    "raw_report['13'] = pd.to_datetime(raw_report['13'], format='%Y/%m/%d')\n",
    "raw_report['LastBreedingDate'] = pd.to_datetime(raw_report['LastBreedingDate'], format='%Y/%m/%d')\n",
    "raw_report['19'] = pd.to_datetime(raw_report['19'], format='%Y/%m/%d')\n",
    "raw_report['20'] = pd.to_datetime(raw_report['20'], format='%Y/%m/%d')"
   ]
  },
  {
   "cell_type": "code",
   "execution_count": 74,
   "metadata": {},
   "outputs": [],
   "source": [
    "# 欄19改為分娩間隔(最近分娩日期減去前次分娩日期)\n",
    "raw_report['19'] = raw_report['LastParturitionDays'] - raw_report['19']\n",
    "raw_report['19'] = raw_report['19'].dt.days\n",
    "raw_report = raw_report.rename(columns={\"19\": \"ParturitionInterval\"})"
   ]
  },
  {
   "cell_type": "code",
   "execution_count": 75,
   "metadata": {},
   "outputs": [],
   "source": [
    "# 欄20改為配種間隔(最後配種日期減去第一次配種日期)\n",
    "raw_report['20'] = raw_report['LastBreedingDate'] - raw_report['20']\n",
    "raw_report['20'] = raw_report['20'].dt.days\n",
    "raw_report = raw_report.rename(columns={\"20\": \"BreedingInterval\"})"
   ]
  },
  {
   "cell_type": "code",
   "execution_count": 76,
   "metadata": {},
   "outputs": [],
   "source": [
    "# 欄12改為採樣日期減去最近分娩日期\n",
    "raw_report['LastParturitionDays'] = raw_report['13'] - raw_report['LastParturitionDays']\n",
    "# 將天數的日期格式轉回整數\n",
    "raw_report['LastParturitionDays'] = raw_report['LastParturitionDays'].dt.days"
   ]
  },
  {
   "cell_type": "code",
   "execution_count": 77,
   "metadata": {},
   "outputs": [
    {
     "data": {
      "text/html": [
       "<div>\n",
       "<style scoped>\n",
       "    .dataframe tbody tr th:only-of-type {\n",
       "        vertical-align: middle;\n",
       "    }\n",
       "\n",
       "    .dataframe tbody tr th {\n",
       "        vertical-align: top;\n",
       "    }\n",
       "\n",
       "    .dataframe thead th {\n",
       "        text-align: right;\n",
       "    }\n",
       "</style>\n",
       "<table border=\"1\" class=\"dataframe\">\n",
       "  <thead>\n",
       "    <tr style=\"text-align: right;\">\n",
       "      <th></th>\n",
       "      <th>1</th>\n",
       "      <th>2</th>\n",
       "      <th>3</th>\n",
       "      <th>FarmID</th>\n",
       "      <th>CowID</th>\n",
       "      <th>SpermID</th>\n",
       "      <th>MotherID</th>\n",
       "      <th>8</th>\n",
       "      <th>Parity</th>\n",
       "      <th>LactationDays</th>\n",
       "      <th>...</th>\n",
       "      <th>13</th>\n",
       "      <th>MonthAge</th>\n",
       "      <th>15</th>\n",
       "      <th>LastBreedingDate</th>\n",
       "      <th>LastSperm</th>\n",
       "      <th>BreedingTimes</th>\n",
       "      <th>ParturitionInterval</th>\n",
       "      <th>BreedingInterval</th>\n",
       "      <th>FirstSperm</th>\n",
       "      <th>MilkYield</th>\n",
       "    </tr>\n",
       "  </thead>\n",
       "  <tbody>\n",
       "    <tr>\n",
       "      <th>0</th>\n",
       "      <td>1</td>\n",
       "      <td>2013</td>\n",
       "      <td>3</td>\n",
       "      <td>A</td>\n",
       "      <td>52612</td>\n",
       "      <td>507H7173</td>\n",
       "      <td>96040545</td>\n",
       "      <td>2011/1/1 00:00</td>\n",
       "      <td>1</td>\n",
       "      <td>78.0</td>\n",
       "      <td>...</td>\n",
       "      <td>2013-03-20</td>\n",
       "      <td>26</td>\n",
       "      <td>2013/3/21 00:00</td>\n",
       "      <td>2015-05-05</td>\n",
       "      <td>507H11621</td>\n",
       "      <td>1</td>\n",
       "      <td>0.0</td>\n",
       "      <td>791.0</td>\n",
       "      <td>501H8784</td>\n",
       "      <td>29.4</td>\n",
       "    </tr>\n",
       "    <tr>\n",
       "      <th>1</th>\n",
       "      <td>2</td>\n",
       "      <td>2013</td>\n",
       "      <td>4</td>\n",
       "      <td>A</td>\n",
       "      <td>52612</td>\n",
       "      <td>507H7173</td>\n",
       "      <td>96040545</td>\n",
       "      <td>2011/1/1 00:00</td>\n",
       "      <td>1</td>\n",
       "      <td>107.0</td>\n",
       "      <td>...</td>\n",
       "      <td>2013-04-18</td>\n",
       "      <td>27</td>\n",
       "      <td>2013/4/19 00:00</td>\n",
       "      <td>2015-05-05</td>\n",
       "      <td>507H11621</td>\n",
       "      <td>1</td>\n",
       "      <td>0.0</td>\n",
       "      <td>791.0</td>\n",
       "      <td>501H8784</td>\n",
       "      <td>27.8</td>\n",
       "    </tr>\n",
       "    <tr>\n",
       "      <th>2</th>\n",
       "      <td>3</td>\n",
       "      <td>2013</td>\n",
       "      <td>5</td>\n",
       "      <td>A</td>\n",
       "      <td>52612</td>\n",
       "      <td>507H7173</td>\n",
       "      <td>96040545</td>\n",
       "      <td>2011/1/1 00:00</td>\n",
       "      <td>1</td>\n",
       "      <td>140.0</td>\n",
       "      <td>...</td>\n",
       "      <td>2013-05-21</td>\n",
       "      <td>28</td>\n",
       "      <td>2013/5/22 00:00</td>\n",
       "      <td>2015-05-05</td>\n",
       "      <td>507H11621</td>\n",
       "      <td>2</td>\n",
       "      <td>0.0</td>\n",
       "      <td>791.0</td>\n",
       "      <td>501H8784</td>\n",
       "      <td>9.0</td>\n",
       "    </tr>\n",
       "    <tr>\n",
       "      <th>3</th>\n",
       "      <td>4</td>\n",
       "      <td>2013</td>\n",
       "      <td>6</td>\n",
       "      <td>A</td>\n",
       "      <td>52612</td>\n",
       "      <td>507H7173</td>\n",
       "      <td>96040545</td>\n",
       "      <td>2011/1/1 00:00</td>\n",
       "      <td>1</td>\n",
       "      <td>175.0</td>\n",
       "      <td>...</td>\n",
       "      <td>2013-06-25</td>\n",
       "      <td>29</td>\n",
       "      <td>2013/6/26 00:00</td>\n",
       "      <td>2015-05-05</td>\n",
       "      <td>507H11621</td>\n",
       "      <td>2</td>\n",
       "      <td>0.0</td>\n",
       "      <td>791.0</td>\n",
       "      <td>501H8784</td>\n",
       "      <td>13.0</td>\n",
       "    </tr>\n",
       "    <tr>\n",
       "      <th>4</th>\n",
       "      <td>5</td>\n",
       "      <td>2013</td>\n",
       "      <td>7</td>\n",
       "      <td>A</td>\n",
       "      <td>52612</td>\n",
       "      <td>507H7173</td>\n",
       "      <td>96040545</td>\n",
       "      <td>2011/1/1 00:00</td>\n",
       "      <td>1</td>\n",
       "      <td>210.0</td>\n",
       "      <td>...</td>\n",
       "      <td>2013-07-30</td>\n",
       "      <td>30</td>\n",
       "      <td>2013/7/31 00:00</td>\n",
       "      <td>2015-05-05</td>\n",
       "      <td>507H11621</td>\n",
       "      <td>2</td>\n",
       "      <td>0.0</td>\n",
       "      <td>791.0</td>\n",
       "      <td>501H8784</td>\n",
       "      <td>13.2</td>\n",
       "    </tr>\n",
       "  </tbody>\n",
       "</table>\n",
       "<p>5 rows × 21 columns</p>\n",
       "</div>"
      ],
      "text/plain": [
       "   1     2  3 FarmID  CowID   SpermID  MotherID               8  Parity  \\\n",
       "0  1  2013  3      A  52612  507H7173  96040545  2011/1/1 00:00       1   \n",
       "1  2  2013  4      A  52612  507H7173  96040545  2011/1/1 00:00       1   \n",
       "2  3  2013  5      A  52612  507H7173  96040545  2011/1/1 00:00       1   \n",
       "3  4  2013  6      A  52612  507H7173  96040545  2011/1/1 00:00       1   \n",
       "4  5  2013  7      A  52612  507H7173  96040545  2011/1/1 00:00       1   \n",
       "\n",
       "   LactationDays  ...         13 MonthAge               15 LastBreedingDate  \\\n",
       "0           78.0  ... 2013-03-20       26  2013/3/21 00:00       2015-05-05   \n",
       "1          107.0  ... 2013-04-18       27  2013/4/19 00:00       2015-05-05   \n",
       "2          140.0  ... 2013-05-21       28  2013/5/22 00:00       2015-05-05   \n",
       "3          175.0  ... 2013-06-25       29  2013/6/26 00:00       2015-05-05   \n",
       "4          210.0  ... 2013-07-30       30  2013/7/31 00:00       2015-05-05   \n",
       "\n",
       "   LastSperm BreedingTimes  ParturitionInterval  BreedingInterval  FirstSperm  \\\n",
       "0  507H11621             1                  0.0             791.0    501H8784   \n",
       "1  507H11621             1                  0.0             791.0    501H8784   \n",
       "2  507H11621             2                  0.0             791.0    501H8784   \n",
       "3  507H11621             2                  0.0             791.0    501H8784   \n",
       "4  507H11621             2                  0.0             791.0    501H8784   \n",
       "\n",
       "  MilkYield  \n",
       "0      29.4  \n",
       "1      27.8  \n",
       "2       9.0  \n",
       "3      13.0  \n",
       "4      13.2  \n",
       "\n",
       "[5 rows x 21 columns]"
      ]
     },
     "execution_count": 77,
     "metadata": {},
     "output_type": "execute_result"
    }
   ],
   "source": [
    "raw_report.head()"
   ]
  },
  {
   "cell_type": "code",
   "execution_count": 78,
   "metadata": {},
   "outputs": [
    {
     "name": "stdout",
     "output_type": "stream",
     "text": [
      "(1536, 21)\n"
     ]
    }
   ],
   "source": [
    "print(raw_report[raw_report['LastBreedingDate'].isnull()].shape)"
   ]
  },
  {
   "cell_type": "code",
   "execution_count": 79,
   "metadata": {},
   "outputs": [
    {
     "data": {
      "text/plain": [
       "(37517, 21)"
      ]
     },
     "execution_count": 79,
     "metadata": {},
     "output_type": "execute_result"
    }
   ],
   "source": [
    "raw_report.shape"
   ]
  },
  {
   "cell_type": "code",
   "execution_count": 80,
   "metadata": {},
   "outputs": [
    {
     "data": {
      "text/plain": [
       "(33254, 21)"
      ]
     },
     "execution_count": 80,
     "metadata": {},
     "output_type": "execute_result"
    }
   ],
   "source": [
    "# 乳量欄位不為空者切為訓練資料\n",
    "train_report = raw_report[raw_report['MilkYield'].notna()]\n",
    "train_report.shape"
   ]
  },
  {
   "cell_type": "code",
   "execution_count": 81,
   "metadata": {},
   "outputs": [
    {
     "data": {
      "text/plain": [
       "(4263, 21)"
      ]
     },
     "execution_count": 81,
     "metadata": {},
     "output_type": "execute_result"
    }
   ],
   "source": [
    "# 乳量欄位為空者切為測試資料\n",
    "test_report = raw_report[raw_report['MilkYield'].isna()]\n",
    "test_report.shape"
   ]
  },
  {
   "cell_type": "code",
   "execution_count": 82,
   "metadata": {},
   "outputs": [
    {
     "data": {
      "text/html": [
       "<div>\n",
       "<style scoped>\n",
       "    .dataframe tbody tr th:only-of-type {\n",
       "        vertical-align: middle;\n",
       "    }\n",
       "\n",
       "    .dataframe tbody tr th {\n",
       "        vertical-align: top;\n",
       "    }\n",
       "\n",
       "    .dataframe thead th {\n",
       "        text-align: right;\n",
       "    }\n",
       "</style>\n",
       "<table border=\"1\" class=\"dataframe\">\n",
       "  <thead>\n",
       "    <tr style=\"text-align: right;\">\n",
       "      <th></th>\n",
       "      <th>1</th>\n",
       "      <th>2</th>\n",
       "      <th>3</th>\n",
       "      <th>FarmID</th>\n",
       "      <th>CowID</th>\n",
       "      <th>SpermID</th>\n",
       "      <th>MotherID</th>\n",
       "      <th>8</th>\n",
       "      <th>Parity</th>\n",
       "      <th>LactationDays</th>\n",
       "      <th>...</th>\n",
       "      <th>13</th>\n",
       "      <th>MonthAge</th>\n",
       "      <th>15</th>\n",
       "      <th>LastBreedingDate</th>\n",
       "      <th>LastSperm</th>\n",
       "      <th>BreedingTimes</th>\n",
       "      <th>ParturitionInterval</th>\n",
       "      <th>BreedingInterval</th>\n",
       "      <th>FirstSperm</th>\n",
       "      <th>MilkYield</th>\n",
       "    </tr>\n",
       "  </thead>\n",
       "  <tbody>\n",
       "    <tr>\n",
       "      <th>0</th>\n",
       "      <td>1</td>\n",
       "      <td>2013</td>\n",
       "      <td>3</td>\n",
       "      <td>A</td>\n",
       "      <td>52612</td>\n",
       "      <td>507H7173</td>\n",
       "      <td>96040545</td>\n",
       "      <td>2011/1/1 00:00</td>\n",
       "      <td>1</td>\n",
       "      <td>78.0</td>\n",
       "      <td>...</td>\n",
       "      <td>2013-03-20</td>\n",
       "      <td>26</td>\n",
       "      <td>2013/3/21 00:00</td>\n",
       "      <td>2015-05-05</td>\n",
       "      <td>507H11621</td>\n",
       "      <td>1</td>\n",
       "      <td>0.0</td>\n",
       "      <td>791.0</td>\n",
       "      <td>501H8784</td>\n",
       "      <td>29.4</td>\n",
       "    </tr>\n",
       "    <tr>\n",
       "      <th>1</th>\n",
       "      <td>2</td>\n",
       "      <td>2013</td>\n",
       "      <td>4</td>\n",
       "      <td>A</td>\n",
       "      <td>52612</td>\n",
       "      <td>507H7173</td>\n",
       "      <td>96040545</td>\n",
       "      <td>2011/1/1 00:00</td>\n",
       "      <td>1</td>\n",
       "      <td>107.0</td>\n",
       "      <td>...</td>\n",
       "      <td>2013-04-18</td>\n",
       "      <td>27</td>\n",
       "      <td>2013/4/19 00:00</td>\n",
       "      <td>2015-05-05</td>\n",
       "      <td>507H11621</td>\n",
       "      <td>1</td>\n",
       "      <td>0.0</td>\n",
       "      <td>791.0</td>\n",
       "      <td>501H8784</td>\n",
       "      <td>27.8</td>\n",
       "    </tr>\n",
       "    <tr>\n",
       "      <th>2</th>\n",
       "      <td>3</td>\n",
       "      <td>2013</td>\n",
       "      <td>5</td>\n",
       "      <td>A</td>\n",
       "      <td>52612</td>\n",
       "      <td>507H7173</td>\n",
       "      <td>96040545</td>\n",
       "      <td>2011/1/1 00:00</td>\n",
       "      <td>1</td>\n",
       "      <td>140.0</td>\n",
       "      <td>...</td>\n",
       "      <td>2013-05-21</td>\n",
       "      <td>28</td>\n",
       "      <td>2013/5/22 00:00</td>\n",
       "      <td>2015-05-05</td>\n",
       "      <td>507H11621</td>\n",
       "      <td>2</td>\n",
       "      <td>0.0</td>\n",
       "      <td>791.0</td>\n",
       "      <td>501H8784</td>\n",
       "      <td>9.0</td>\n",
       "    </tr>\n",
       "    <tr>\n",
       "      <th>3</th>\n",
       "      <td>4</td>\n",
       "      <td>2013</td>\n",
       "      <td>6</td>\n",
       "      <td>A</td>\n",
       "      <td>52612</td>\n",
       "      <td>507H7173</td>\n",
       "      <td>96040545</td>\n",
       "      <td>2011/1/1 00:00</td>\n",
       "      <td>1</td>\n",
       "      <td>175.0</td>\n",
       "      <td>...</td>\n",
       "      <td>2013-06-25</td>\n",
       "      <td>29</td>\n",
       "      <td>2013/6/26 00:00</td>\n",
       "      <td>2015-05-05</td>\n",
       "      <td>507H11621</td>\n",
       "      <td>2</td>\n",
       "      <td>0.0</td>\n",
       "      <td>791.0</td>\n",
       "      <td>501H8784</td>\n",
       "      <td>13.0</td>\n",
       "    </tr>\n",
       "    <tr>\n",
       "      <th>4</th>\n",
       "      <td>5</td>\n",
       "      <td>2013</td>\n",
       "      <td>7</td>\n",
       "      <td>A</td>\n",
       "      <td>52612</td>\n",
       "      <td>507H7173</td>\n",
       "      <td>96040545</td>\n",
       "      <td>2011/1/1 00:00</td>\n",
       "      <td>1</td>\n",
       "      <td>210.0</td>\n",
       "      <td>...</td>\n",
       "      <td>2013-07-30</td>\n",
       "      <td>30</td>\n",
       "      <td>2013/7/31 00:00</td>\n",
       "      <td>2015-05-05</td>\n",
       "      <td>507H11621</td>\n",
       "      <td>2</td>\n",
       "      <td>0.0</td>\n",
       "      <td>791.0</td>\n",
       "      <td>501H8784</td>\n",
       "      <td>13.2</td>\n",
       "    </tr>\n",
       "  </tbody>\n",
       "</table>\n",
       "<p>5 rows × 21 columns</p>\n",
       "</div>"
      ],
      "text/plain": [
       "   1     2  3 FarmID  CowID   SpermID  MotherID               8  Parity  \\\n",
       "0  1  2013  3      A  52612  507H7173  96040545  2011/1/1 00:00       1   \n",
       "1  2  2013  4      A  52612  507H7173  96040545  2011/1/1 00:00       1   \n",
       "2  3  2013  5      A  52612  507H7173  96040545  2011/1/1 00:00       1   \n",
       "3  4  2013  6      A  52612  507H7173  96040545  2011/1/1 00:00       1   \n",
       "4  5  2013  7      A  52612  507H7173  96040545  2011/1/1 00:00       1   \n",
       "\n",
       "   LactationDays  ...         13 MonthAge               15 LastBreedingDate  \\\n",
       "0           78.0  ... 2013-03-20       26  2013/3/21 00:00       2015-05-05   \n",
       "1          107.0  ... 2013-04-18       27  2013/4/19 00:00       2015-05-05   \n",
       "2          140.0  ... 2013-05-21       28  2013/5/22 00:00       2015-05-05   \n",
       "3          175.0  ... 2013-06-25       29  2013/6/26 00:00       2015-05-05   \n",
       "4          210.0  ... 2013-07-30       30  2013/7/31 00:00       2015-05-05   \n",
       "\n",
       "   LastSperm BreedingTimes  ParturitionInterval  BreedingInterval  FirstSperm  \\\n",
       "0  507H11621             1                  0.0             791.0    501H8784   \n",
       "1  507H11621             1                  0.0             791.0    501H8784   \n",
       "2  507H11621             2                  0.0             791.0    501H8784   \n",
       "3  507H11621             2                  0.0             791.0    501H8784   \n",
       "4  507H11621             2                  0.0             791.0    501H8784   \n",
       "\n",
       "  MilkYield  \n",
       "0      29.4  \n",
       "1      27.8  \n",
       "2       9.0  \n",
       "3      13.0  \n",
       "4      13.2  \n",
       "\n",
       "[5 rows x 21 columns]"
      ]
     },
     "execution_count": 82,
     "metadata": {},
     "output_type": "execute_result"
    }
   ],
   "source": [
    "train_report.head()"
   ]
  },
  {
   "cell_type": "code",
   "execution_count": 83,
   "metadata": {},
   "outputs": [
    {
     "data": {
      "text/html": [
       "<div>\n",
       "<style scoped>\n",
       "    .dataframe tbody tr th:only-of-type {\n",
       "        vertical-align: middle;\n",
       "    }\n",
       "\n",
       "    .dataframe tbody tr th {\n",
       "        vertical-align: top;\n",
       "    }\n",
       "\n",
       "    .dataframe thead th {\n",
       "        text-align: right;\n",
       "    }\n",
       "</style>\n",
       "<table border=\"1\" class=\"dataframe\">\n",
       "  <thead>\n",
       "    <tr style=\"text-align: right;\">\n",
       "      <th></th>\n",
       "      <th>1</th>\n",
       "      <th>2</th>\n",
       "      <th>3</th>\n",
       "      <th>FarmID</th>\n",
       "      <th>CowID</th>\n",
       "      <th>SpermID</th>\n",
       "      <th>MotherID</th>\n",
       "      <th>8</th>\n",
       "      <th>Parity</th>\n",
       "      <th>LactationDays</th>\n",
       "      <th>...</th>\n",
       "      <th>13</th>\n",
       "      <th>MonthAge</th>\n",
       "      <th>15</th>\n",
       "      <th>LastBreedingDate</th>\n",
       "      <th>LastSperm</th>\n",
       "      <th>BreedingTimes</th>\n",
       "      <th>ParturitionInterval</th>\n",
       "      <th>BreedingInterval</th>\n",
       "      <th>FirstSperm</th>\n",
       "      <th>MilkYield</th>\n",
       "    </tr>\n",
       "  </thead>\n",
       "  <tbody>\n",
       "    <tr>\n",
       "      <th>479</th>\n",
       "      <td>480</td>\n",
       "      <td>2019</td>\n",
       "      <td>1</td>\n",
       "      <td>A</td>\n",
       "      <td>52631</td>\n",
       "      <td>501H9952</td>\n",
       "      <td>97040152</td>\n",
       "      <td>2011/3/17 00:00</td>\n",
       "      <td>4</td>\n",
       "      <td>435.0</td>\n",
       "      <td>...</td>\n",
       "      <td>2019-01-10</td>\n",
       "      <td>94</td>\n",
       "      <td>2019/1/15 00:00</td>\n",
       "      <td>2019-02-03</td>\n",
       "      <td>551HO00657</td>\n",
       "      <td>6</td>\n",
       "      <td>454.0</td>\n",
       "      <td>393.0</td>\n",
       "      <td>614HO07276</td>\n",
       "      <td>NaN</td>\n",
       "    </tr>\n",
       "    <tr>\n",
       "      <th>741</th>\n",
       "      <td>742</td>\n",
       "      <td>2019</td>\n",
       "      <td>2</td>\n",
       "      <td>A</td>\n",
       "      <td>52640</td>\n",
       "      <td>501H9952</td>\n",
       "      <td>96040567</td>\n",
       "      <td>2011/4/1 00:00</td>\n",
       "      <td>4</td>\n",
       "      <td>13.0</td>\n",
       "      <td>...</td>\n",
       "      <td>2019-02-11</td>\n",
       "      <td>94</td>\n",
       "      <td>2019/2/12 00:00</td>\n",
       "      <td>2019-02-28</td>\n",
       "      <td>551HO00695</td>\n",
       "      <td>0</td>\n",
       "      <td>591.0</td>\n",
       "      <td>0.0</td>\n",
       "      <td>551HO00695</td>\n",
       "      <td>NaN</td>\n",
       "    </tr>\n",
       "    <tr>\n",
       "      <th>742</th>\n",
       "      <td>743</td>\n",
       "      <td>2019</td>\n",
       "      <td>3</td>\n",
       "      <td>A</td>\n",
       "      <td>52640</td>\n",
       "      <td>501H9952</td>\n",
       "      <td>96040567</td>\n",
       "      <td>2011/4/1 00:00</td>\n",
       "      <td>4</td>\n",
       "      <td>35.0</td>\n",
       "      <td>...</td>\n",
       "      <td>2019-03-05</td>\n",
       "      <td>95</td>\n",
       "      <td>2019/3/6 00:00</td>\n",
       "      <td>2019-02-28</td>\n",
       "      <td>551HO00695</td>\n",
       "      <td>1</td>\n",
       "      <td>591.0</td>\n",
       "      <td>0.0</td>\n",
       "      <td>551HO00695</td>\n",
       "      <td>NaN</td>\n",
       "    </tr>\n",
       "    <tr>\n",
       "      <th>743</th>\n",
       "      <td>744</td>\n",
       "      <td>2019</td>\n",
       "      <td>4</td>\n",
       "      <td>A</td>\n",
       "      <td>52640</td>\n",
       "      <td>501H9952</td>\n",
       "      <td>96040567</td>\n",
       "      <td>2011/4/1 00:00</td>\n",
       "      <td>4</td>\n",
       "      <td>70.0</td>\n",
       "      <td>...</td>\n",
       "      <td>2019-04-09</td>\n",
       "      <td>96</td>\n",
       "      <td>2019/4/11 00:00</td>\n",
       "      <td>2019-02-28</td>\n",
       "      <td>551HO00695</td>\n",
       "      <td>1</td>\n",
       "      <td>591.0</td>\n",
       "      <td>0.0</td>\n",
       "      <td>551HO00695</td>\n",
       "      <td>NaN</td>\n",
       "    </tr>\n",
       "    <tr>\n",
       "      <th>744</th>\n",
       "      <td>745</td>\n",
       "      <td>2019</td>\n",
       "      <td>5</td>\n",
       "      <td>A</td>\n",
       "      <td>52640</td>\n",
       "      <td>501H9952</td>\n",
       "      <td>96040567</td>\n",
       "      <td>2011/4/1 00:00</td>\n",
       "      <td>4</td>\n",
       "      <td>98.0</td>\n",
       "      <td>...</td>\n",
       "      <td>2019-05-07</td>\n",
       "      <td>97</td>\n",
       "      <td>2019/5/9 00:00</td>\n",
       "      <td>2019-02-28</td>\n",
       "      <td>551HO00695</td>\n",
       "      <td>1</td>\n",
       "      <td>591.0</td>\n",
       "      <td>0.0</td>\n",
       "      <td>551HO00695</td>\n",
       "      <td>NaN</td>\n",
       "    </tr>\n",
       "  </tbody>\n",
       "</table>\n",
       "<p>5 rows × 21 columns</p>\n",
       "</div>"
      ],
      "text/plain": [
       "       1     2  3 FarmID  CowID   SpermID  MotherID                8  Parity  \\\n",
       "479  480  2019  1      A  52631  501H9952  97040152  2011/3/17 00:00       4   \n",
       "741  742  2019  2      A  52640  501H9952  96040567   2011/4/1 00:00       4   \n",
       "742  743  2019  3      A  52640  501H9952  96040567   2011/4/1 00:00       4   \n",
       "743  744  2019  4      A  52640  501H9952  96040567   2011/4/1 00:00       4   \n",
       "744  745  2019  5      A  52640  501H9952  96040567   2011/4/1 00:00       4   \n",
       "\n",
       "     LactationDays  ...         13 MonthAge               15 LastBreedingDate  \\\n",
       "479          435.0  ... 2019-01-10       94  2019/1/15 00:00       2019-02-03   \n",
       "741           13.0  ... 2019-02-11       94  2019/2/12 00:00       2019-02-28   \n",
       "742           35.0  ... 2019-03-05       95   2019/3/6 00:00       2019-02-28   \n",
       "743           70.0  ... 2019-04-09       96  2019/4/11 00:00       2019-02-28   \n",
       "744           98.0  ... 2019-05-07       97   2019/5/9 00:00       2019-02-28   \n",
       "\n",
       "      LastSperm BreedingTimes  ParturitionInterval  BreedingInterval  \\\n",
       "479  551HO00657             6                454.0             393.0   \n",
       "741  551HO00695             0                591.0               0.0   \n",
       "742  551HO00695             1                591.0               0.0   \n",
       "743  551HO00695             1                591.0               0.0   \n",
       "744  551HO00695             1                591.0               0.0   \n",
       "\n",
       "     FirstSperm MilkYield  \n",
       "479  614HO07276       NaN  \n",
       "741  551HO00695       NaN  \n",
       "742  551HO00695       NaN  \n",
       "743  551HO00695       NaN  \n",
       "744  551HO00695       NaN  \n",
       "\n",
       "[5 rows x 21 columns]"
      ]
     },
     "execution_count": 83,
     "metadata": {},
     "output_type": "execute_result"
    }
   ],
   "source": [
    "test_report.head()"
   ]
  },
  {
   "cell_type": "code",
   "execution_count": 84,
   "metadata": {},
   "outputs": [
    {
     "name": "stdout",
     "output_type": "stream",
     "text": [
      "The shape of train_report: (33254, 14)\n",
      "The shape.of test_report: (4263, 14)\n"
     ]
    }
   ],
   "source": [
    "train_ID = train_report['1']\n",
    "test_ID = test_report['1']\n",
    "\n",
    "# Drop the Id columns in training and testing data\n",
    "train_report.drop('1', axis = 1, inplace = True)\n",
    "test_report.drop('1', axis = 1, inplace = True)\n",
    "\n",
    "# 去除資料年份\n",
    "train_report.drop('2', axis = 1, inplace = True)\n",
    "test_report.drop('2', axis = 1, inplace = True)\n",
    "\n",
    "# 去除資料月份\n",
    "train_report.drop('3', axis = 1, inplace = True)\n",
    "test_report.drop('3', axis = 1, inplace = True)\n",
    "\n",
    "# 有月齡就不需要出生日期\n",
    "train_report.drop('8', axis = 1, inplace = True)\n",
    "test_report.drop('8', axis = 1, inplace = True)\n",
    "\n",
    "# 去除採樣日期\n",
    "train_report.drop('13', axis = 1, inplace = True)\n",
    "test_report.drop('13', axis = 1, inplace = True)\n",
    "\n",
    "# 去除檢測日期\n",
    "train_report.drop('15', axis = 1, inplace = True)\n",
    "test_report.drop('15', axis = 1, inplace = True)\n",
    "\n",
    "# 去除最後配種日期\n",
    "train_report.drop('LastBreedingDate', axis = 1, inplace = True)\n",
    "test_report.drop('LastBreedingDate', axis = 1, inplace = True)\n",
    "\n",
    "print('The shape of train_report:', train_report.shape)\n",
    "print('The shape.of test_report:', test_report.shape)"
   ]
  },
  {
   "cell_type": "code",
   "execution_count": 85,
   "metadata": {},
   "outputs": [
    {
     "data": {
      "text/html": [
       "<div>\n",
       "<style scoped>\n",
       "    .dataframe tbody tr th:only-of-type {\n",
       "        vertical-align: middle;\n",
       "    }\n",
       "\n",
       "    .dataframe tbody tr th {\n",
       "        vertical-align: top;\n",
       "    }\n",
       "\n",
       "    .dataframe thead th {\n",
       "        text-align: right;\n",
       "    }\n",
       "</style>\n",
       "<table border=\"1\" class=\"dataframe\">\n",
       "  <thead>\n",
       "    <tr style=\"text-align: right;\">\n",
       "      <th></th>\n",
       "      <th>FarmID</th>\n",
       "      <th>CowID</th>\n",
       "      <th>SpermID</th>\n",
       "      <th>MotherID</th>\n",
       "      <th>Parity</th>\n",
       "      <th>LactationDays</th>\n",
       "      <th>LastParturitionDays</th>\n",
       "      <th>MonthAge</th>\n",
       "      <th>LastSperm</th>\n",
       "      <th>BreedingTimes</th>\n",
       "      <th>ParturitionInterval</th>\n",
       "      <th>BreedingInterval</th>\n",
       "      <th>FirstSperm</th>\n",
       "      <th>MilkYield</th>\n",
       "    </tr>\n",
       "  </thead>\n",
       "  <tbody>\n",
       "    <tr>\n",
       "      <th>0</th>\n",
       "      <td>A</td>\n",
       "      <td>52612</td>\n",
       "      <td>507H7173</td>\n",
       "      <td>96040545</td>\n",
       "      <td>1</td>\n",
       "      <td>78.0</td>\n",
       "      <td>78.0</td>\n",
       "      <td>26</td>\n",
       "      <td>507H11621</td>\n",
       "      <td>1</td>\n",
       "      <td>0.0</td>\n",
       "      <td>791.0</td>\n",
       "      <td>501H8784</td>\n",
       "      <td>29.4</td>\n",
       "    </tr>\n",
       "    <tr>\n",
       "      <th>1</th>\n",
       "      <td>A</td>\n",
       "      <td>52612</td>\n",
       "      <td>507H7173</td>\n",
       "      <td>96040545</td>\n",
       "      <td>1</td>\n",
       "      <td>107.0</td>\n",
       "      <td>107.0</td>\n",
       "      <td>27</td>\n",
       "      <td>507H11621</td>\n",
       "      <td>1</td>\n",
       "      <td>0.0</td>\n",
       "      <td>791.0</td>\n",
       "      <td>501H8784</td>\n",
       "      <td>27.8</td>\n",
       "    </tr>\n",
       "    <tr>\n",
       "      <th>2</th>\n",
       "      <td>A</td>\n",
       "      <td>52612</td>\n",
       "      <td>507H7173</td>\n",
       "      <td>96040545</td>\n",
       "      <td>1</td>\n",
       "      <td>140.0</td>\n",
       "      <td>140.0</td>\n",
       "      <td>28</td>\n",
       "      <td>507H11621</td>\n",
       "      <td>2</td>\n",
       "      <td>0.0</td>\n",
       "      <td>791.0</td>\n",
       "      <td>501H8784</td>\n",
       "      <td>9.0</td>\n",
       "    </tr>\n",
       "    <tr>\n",
       "      <th>3</th>\n",
       "      <td>A</td>\n",
       "      <td>52612</td>\n",
       "      <td>507H7173</td>\n",
       "      <td>96040545</td>\n",
       "      <td>1</td>\n",
       "      <td>175.0</td>\n",
       "      <td>175.0</td>\n",
       "      <td>29</td>\n",
       "      <td>507H11621</td>\n",
       "      <td>2</td>\n",
       "      <td>0.0</td>\n",
       "      <td>791.0</td>\n",
       "      <td>501H8784</td>\n",
       "      <td>13.0</td>\n",
       "    </tr>\n",
       "    <tr>\n",
       "      <th>4</th>\n",
       "      <td>A</td>\n",
       "      <td>52612</td>\n",
       "      <td>507H7173</td>\n",
       "      <td>96040545</td>\n",
       "      <td>1</td>\n",
       "      <td>210.0</td>\n",
       "      <td>210.0</td>\n",
       "      <td>30</td>\n",
       "      <td>507H11621</td>\n",
       "      <td>2</td>\n",
       "      <td>0.0</td>\n",
       "      <td>791.0</td>\n",
       "      <td>501H8784</td>\n",
       "      <td>13.2</td>\n",
       "    </tr>\n",
       "  </tbody>\n",
       "</table>\n",
       "</div>"
      ],
      "text/plain": [
       "  FarmID  CowID   SpermID  MotherID  Parity  LactationDays  \\\n",
       "0      A  52612  507H7173  96040545       1           78.0   \n",
       "1      A  52612  507H7173  96040545       1          107.0   \n",
       "2      A  52612  507H7173  96040545       1          140.0   \n",
       "3      A  52612  507H7173  96040545       1          175.0   \n",
       "4      A  52612  507H7173  96040545       1          210.0   \n",
       "\n",
       "   LastParturitionDays  MonthAge  LastSperm  BreedingTimes  \\\n",
       "0                 78.0        26  507H11621              1   \n",
       "1                107.0        27  507H11621              1   \n",
       "2                140.0        28  507H11621              2   \n",
       "3                175.0        29  507H11621              2   \n",
       "4                210.0        30  507H11621              2   \n",
       "\n",
       "   ParturitionInterval  BreedingInterval FirstSperm  MilkYield  \n",
       "0                  0.0             791.0   501H8784       29.4  \n",
       "1                  0.0             791.0   501H8784       27.8  \n",
       "2                  0.0             791.0   501H8784        9.0  \n",
       "3                  0.0             791.0   501H8784       13.0  \n",
       "4                  0.0             791.0   501H8784       13.2  "
      ]
     },
     "execution_count": 85,
     "metadata": {},
     "output_type": "execute_result"
    }
   ],
   "source": [
    "train_report.head()"
   ]
  },
  {
   "cell_type": "code",
   "execution_count": 86,
   "metadata": {},
   "outputs": [
    {
     "data": {
      "text/html": [
       "<div>\n",
       "<style scoped>\n",
       "    .dataframe tbody tr th:only-of-type {\n",
       "        vertical-align: middle;\n",
       "    }\n",
       "\n",
       "    .dataframe tbody tr th {\n",
       "        vertical-align: top;\n",
       "    }\n",
       "\n",
       "    .dataframe thead th {\n",
       "        text-align: right;\n",
       "    }\n",
       "</style>\n",
       "<table border=\"1\" class=\"dataframe\">\n",
       "  <thead>\n",
       "    <tr style=\"text-align: right;\">\n",
       "      <th></th>\n",
       "      <th>FarmID</th>\n",
       "      <th>CowID</th>\n",
       "      <th>SpermID</th>\n",
       "      <th>MotherID</th>\n",
       "      <th>Parity</th>\n",
       "      <th>LactationDays</th>\n",
       "      <th>LastParturitionDays</th>\n",
       "      <th>MonthAge</th>\n",
       "      <th>LastSperm</th>\n",
       "      <th>BreedingTimes</th>\n",
       "      <th>ParturitionInterval</th>\n",
       "      <th>BreedingInterval</th>\n",
       "      <th>FirstSperm</th>\n",
       "      <th>MilkYield</th>\n",
       "    </tr>\n",
       "  </thead>\n",
       "  <tbody>\n",
       "    <tr>\n",
       "      <th>479</th>\n",
       "      <td>A</td>\n",
       "      <td>52631</td>\n",
       "      <td>501H9952</td>\n",
       "      <td>97040152</td>\n",
       "      <td>4</td>\n",
       "      <td>435.0</td>\n",
       "      <td>435.0</td>\n",
       "      <td>94</td>\n",
       "      <td>551HO00657</td>\n",
       "      <td>6</td>\n",
       "      <td>454.0</td>\n",
       "      <td>393.0</td>\n",
       "      <td>614HO07276</td>\n",
       "      <td>NaN</td>\n",
       "    </tr>\n",
       "    <tr>\n",
       "      <th>741</th>\n",
       "      <td>A</td>\n",
       "      <td>52640</td>\n",
       "      <td>501H9952</td>\n",
       "      <td>96040567</td>\n",
       "      <td>4</td>\n",
       "      <td>13.0</td>\n",
       "      <td>13.0</td>\n",
       "      <td>94</td>\n",
       "      <td>551HO00695</td>\n",
       "      <td>0</td>\n",
       "      <td>591.0</td>\n",
       "      <td>0.0</td>\n",
       "      <td>551HO00695</td>\n",
       "      <td>NaN</td>\n",
       "    </tr>\n",
       "    <tr>\n",
       "      <th>742</th>\n",
       "      <td>A</td>\n",
       "      <td>52640</td>\n",
       "      <td>501H9952</td>\n",
       "      <td>96040567</td>\n",
       "      <td>4</td>\n",
       "      <td>35.0</td>\n",
       "      <td>35.0</td>\n",
       "      <td>95</td>\n",
       "      <td>551HO00695</td>\n",
       "      <td>1</td>\n",
       "      <td>591.0</td>\n",
       "      <td>0.0</td>\n",
       "      <td>551HO00695</td>\n",
       "      <td>NaN</td>\n",
       "    </tr>\n",
       "    <tr>\n",
       "      <th>743</th>\n",
       "      <td>A</td>\n",
       "      <td>52640</td>\n",
       "      <td>501H9952</td>\n",
       "      <td>96040567</td>\n",
       "      <td>4</td>\n",
       "      <td>70.0</td>\n",
       "      <td>70.0</td>\n",
       "      <td>96</td>\n",
       "      <td>551HO00695</td>\n",
       "      <td>1</td>\n",
       "      <td>591.0</td>\n",
       "      <td>0.0</td>\n",
       "      <td>551HO00695</td>\n",
       "      <td>NaN</td>\n",
       "    </tr>\n",
       "    <tr>\n",
       "      <th>744</th>\n",
       "      <td>A</td>\n",
       "      <td>52640</td>\n",
       "      <td>501H9952</td>\n",
       "      <td>96040567</td>\n",
       "      <td>4</td>\n",
       "      <td>98.0</td>\n",
       "      <td>98.0</td>\n",
       "      <td>97</td>\n",
       "      <td>551HO00695</td>\n",
       "      <td>1</td>\n",
       "      <td>591.0</td>\n",
       "      <td>0.0</td>\n",
       "      <td>551HO00695</td>\n",
       "      <td>NaN</td>\n",
       "    </tr>\n",
       "  </tbody>\n",
       "</table>\n",
       "</div>"
      ],
      "text/plain": [
       "    FarmID  CowID   SpermID  MotherID  Parity  LactationDays  \\\n",
       "479      A  52631  501H9952  97040152       4          435.0   \n",
       "741      A  52640  501H9952  96040567       4           13.0   \n",
       "742      A  52640  501H9952  96040567       4           35.0   \n",
       "743      A  52640  501H9952  96040567       4           70.0   \n",
       "744      A  52640  501H9952  96040567       4           98.0   \n",
       "\n",
       "     LastParturitionDays  MonthAge   LastSperm  BreedingTimes  \\\n",
       "479                435.0        94  551HO00657              6   \n",
       "741                 13.0        94  551HO00695              0   \n",
       "742                 35.0        95  551HO00695              1   \n",
       "743                 70.0        96  551HO00695              1   \n",
       "744                 98.0        97  551HO00695              1   \n",
       "\n",
       "     ParturitionInterval  BreedingInterval  FirstSperm  MilkYield  \n",
       "479                454.0             393.0  614HO07276        NaN  \n",
       "741                591.0               0.0  551HO00695        NaN  \n",
       "742                591.0               0.0  551HO00695        NaN  \n",
       "743                591.0               0.0  551HO00695        NaN  \n",
       "744                591.0               0.0  551HO00695        NaN  "
      ]
     },
     "execution_count": 86,
     "metadata": {},
     "output_type": "execute_result"
    }
   ],
   "source": [
    "test_report.head()"
   ]
  },
  {
   "cell_type": "markdown",
   "metadata": {},
   "source": [
    "# Data Preprocessing"
   ]
  },
  {
   "cell_type": "markdown",
   "metadata": {},
   "source": [
    "----\n",
    "Data Preprocessing（資料前處理），這應該可以說是最需要耐心的部份。<br>\n",
    "\n",
    "在這邊大致可分為兩部份，前半部份算是一些對資料的觀察、分析(EDA)，後半部主要是針對缺失值及非數值類資料的處理。<br>\n",
    "而重點應該是在後半部份，因為至少要當缺失值及字串類資料處理好時，我們才能將資料送進 model。\n",
    "\n",
    "---"
   ]
  },
  {
   "cell_type": "markdown",
   "metadata": {},
   "source": [
    "### Exploratory Data Analysis (EDA)"
   ]
  },
  {
   "cell_type": "code",
   "execution_count": 87,
   "metadata": {},
   "outputs": [
    {
     "data": {
      "text/plain": [
       "count    33254.000000\n",
       "mean        23.991659\n",
       "std          8.742980\n",
       "min          0.000000\n",
       "25%         18.000000\n",
       "50%         23.400000\n",
       "75%         30.000000\n",
       "max         61.000000\n",
       "Name: MilkYield, dtype: float64"
      ]
     },
     "execution_count": 87,
     "metadata": {},
     "output_type": "execute_result"
    }
   ],
   "source": [
    "# 乳量\n",
    "train_report['MilkYield'].describe()"
   ]
  },
  {
   "cell_type": "code",
   "execution_count": 88,
   "metadata": {},
   "outputs": [
    {
     "data": {
      "text/plain": [
       "<matplotlib.axes._subplots.AxesSubplot at 0x7efc5660fb70>"
      ]
     },
     "execution_count": 88,
     "metadata": {},
     "output_type": "execute_result"
    },
    {
     "data": {
      "image/png": "[encoded data removed]",
      "text/plain": [
       "<Figure size 720x540 with 1 Axes>"
      ]
     },
     "metadata": {
      "needs_background": "light"
     },
     "output_type": "display_data"
    }
   ],
   "source": [
    "#histogram\n",
    "f, ax = plt.subplots(figsize=(10, 7.5))\n",
    "sns.distplot(train_report['MilkYield'], rug=True)"
   ]
  },
  {
   "cell_type": "code",
   "execution_count": 89,
   "metadata": {},
   "outputs": [
    {
     "name": "stdout",
     "output_type": "stream",
     "text": [
      "Skewness: 0.31\n",
      "Kurtosis: -0.16\n"
     ]
    }
   ],
   "source": [
    "#skewness and kurtosis\n",
    "print(\"Skewness: {:.2f}\".format(train_report['MilkYield'].skew()))\n",
    "print(\"Kurtosis: {:.2f}\".format(train_report['MilkYield'].kurt()))"
   ]
  },
  {
   "cell_type": "code",
   "execution_count": 90,
   "metadata": {},
   "outputs": [
    {
     "data": {
      "text/plain": [
       "<matplotlib.axes._subplots.AxesSubplot at 0x7efc554feba8>"
      ]
     },
     "execution_count": 90,
     "metadata": {},
     "output_type": "execute_result"
    },
    {
     "data": {
      "image/png": "[encoded data removed]",
      "text/plain": [
       "<Figure size 720x540 with 1 Axes>"
      ]
     },
     "metadata": {
      "needs_background": "light"
     },
     "output_type": "display_data"
    }
   ],
   "source": [
    "log_MilkYield = np.log1p(train_report['MilkYield'])\n",
    "# Take y=log(1+x) on 'MilkYield'\n",
    "\n",
    "#histogram\n",
    "f, ax = plt.subplots(figsize=(10, 7.5))\n",
    "sns.distplot(log_MilkYield, rug=True)"
   ]
  },
  {
   "cell_type": "markdown",
   "metadata": {},
   "source": [
    "----\n",
    "我們也可以將每一個 feature 之間的線型相關係數以熱圖的形式表現出來。<br>\n",
    "顏色愈淺的就代表正相關性愈強，顏色愈深就代表負相關性愈強。<br>\n",
    "\n",
    "---"
   ]
  },
  {
   "cell_type": "code",
   "execution_count": 91,
   "metadata": {},
   "outputs": [
    {
     "data": {
      "text/plain": [
       "<matplotlib.axes._subplots.AxesSubplot at 0x7efc543f9d30>"
      ]
     },
     "execution_count": 91,
     "metadata": {},
     "output_type": "execute_result"
    },
    {
     "data": {
      "image/png": "[encoded data removed]",
      "text/plain": [
       "<Figure size 720x540 with 2 Axes>"
      ]
     },
     "metadata": {
      "needs_background": "light"
     },
     "output_type": "display_data"
    }
   ],
   "source": [
    "#correlation matrix\n",
    "corrmat = train_report.corr()\n",
    "f, ax = plt.subplots(figsize=(10, 7.5))\n",
    "sns.heatmap(corrmat, vmax=.8, square=True)"
   ]
  },
  {
   "cell_type": "markdown",
   "metadata": {},
   "source": [
    "### Missing Data Processing"
   ]
  },
  {
   "cell_type": "markdown",
   "metadata": {},
   "source": [
    "----\n",
    "這裡可以用 pandas 的 isna() 方法查看有缺失值的欄位。<br>\n",
    "我們將有缺失值的欄位統整由多到少排列出來，可以看到第35列缺失值數量已經為0，因此有缺失值的欄位共有34個。<br>\n",
    "\n",
    "---"
   ]
  },
  {
   "cell_type": "code",
   "execution_count": 92,
   "metadata": {},
   "outputs": [],
   "source": [
    "# 先將乳量獨立出來\n",
    "trainMilkYield = train_report['MilkYield']\n",
    "testMilkYield = test_report['MilkYield']\n",
    "\n",
    "#Drop the MilkYield column in training data\n",
    "train_report.drop('MilkYield', axis = 1, inplace = True)\n",
    "test_report.drop('MilkYield', axis = 1, inplace = True)\n",
    "\n",
    "#Concatenate training dataframe and testing dataframe anlog axis_0\n",
    "df = pd.concat([train_report, test_report])"
   ]
  },
  {
   "cell_type": "code",
   "execution_count": 93,
   "metadata": {},
   "outputs": [
    {
     "data": {
      "text/html": [
       "<div>\n",
       "<style scoped>\n",
       "    .dataframe tbody tr th:only-of-type {\n",
       "        vertical-align: middle;\n",
       "    }\n",
       "\n",
       "    .dataframe tbody tr th {\n",
       "        vertical-align: top;\n",
       "    }\n",
       "\n",
       "    .dataframe thead th {\n",
       "        text-align: right;\n",
       "    }\n",
       "</style>\n",
       "<table border=\"1\" class=\"dataframe\">\n",
       "  <thead>\n",
       "    <tr style=\"text-align: right;\">\n",
       "      <th></th>\n",
       "      <th>Total</th>\n",
       "      <th>Percent</th>\n",
       "    </tr>\n",
       "  </thead>\n",
       "  <tbody>\n",
       "    <tr>\n",
       "      <th>MotherID</th>\n",
       "      <td>3584</td>\n",
       "      <td>0.095530</td>\n",
       "    </tr>\n",
       "    <tr>\n",
       "      <th>BreedingInterval</th>\n",
       "      <td>1536</td>\n",
       "      <td>0.040941</td>\n",
       "    </tr>\n",
       "    <tr>\n",
       "      <th>LastSperm</th>\n",
       "      <td>1536</td>\n",
       "      <td>0.040941</td>\n",
       "    </tr>\n",
       "    <tr>\n",
       "      <th>FirstSperm</th>\n",
       "      <td>1431</td>\n",
       "      <td>0.038143</td>\n",
       "    </tr>\n",
       "    <tr>\n",
       "      <th>SpermID</th>\n",
       "      <td>876</td>\n",
       "      <td>0.023349</td>\n",
       "    </tr>\n",
       "    <tr>\n",
       "      <th>ParturitionInterval</th>\n",
       "      <td>1</td>\n",
       "      <td>0.000027</td>\n",
       "    </tr>\n",
       "    <tr>\n",
       "      <th>LastParturitionDays</th>\n",
       "      <td>1</td>\n",
       "      <td>0.000027</td>\n",
       "    </tr>\n",
       "    <tr>\n",
       "      <th>LactationDays</th>\n",
       "      <td>1</td>\n",
       "      <td>0.000027</td>\n",
       "    </tr>\n",
       "    <tr>\n",
       "      <th>BreedingTimes</th>\n",
       "      <td>0</td>\n",
       "      <td>0.000000</td>\n",
       "    </tr>\n",
       "    <tr>\n",
       "      <th>MonthAge</th>\n",
       "      <td>0</td>\n",
       "      <td>0.000000</td>\n",
       "    </tr>\n",
       "    <tr>\n",
       "      <th>Parity</th>\n",
       "      <td>0</td>\n",
       "      <td>0.000000</td>\n",
       "    </tr>\n",
       "    <tr>\n",
       "      <th>CowID</th>\n",
       "      <td>0</td>\n",
       "      <td>0.000000</td>\n",
       "    </tr>\n",
       "    <tr>\n",
       "      <th>FarmID</th>\n",
       "      <td>0</td>\n",
       "      <td>0.000000</td>\n",
       "    </tr>\n",
       "  </tbody>\n",
       "</table>\n",
       "</div>"
      ],
      "text/plain": [
       "                     Total   Percent\n",
       "MotherID              3584  0.095530\n",
       "BreedingInterval      1536  0.040941\n",
       "LastSperm             1536  0.040941\n",
       "FirstSperm            1431  0.038143\n",
       "SpermID                876  0.023349\n",
       "ParturitionInterval      1  0.000027\n",
       "LastParturitionDays      1  0.000027\n",
       "LactationDays            1  0.000027\n",
       "BreedingTimes            0  0.000000\n",
       "MonthAge                 0  0.000000\n",
       "Parity                   0  0.000000\n",
       "CowID                    0  0.000000\n",
       "FarmID                   0  0.000000"
      ]
     },
     "execution_count": 93,
     "metadata": {},
     "output_type": "execute_result"
    }
   ],
   "source": [
    "#Detect missing data\n",
    "total = df.isna().sum(axis = 0).sort_values(ascending = False)\n",
    "percent = df.isna().sum(axis = 0).sort_values(ascending = False)/raw_report.shape[0]\n",
    "\n",
    "missing_data = pd.concat([total, percent], axis = 1, keys = ['Total', 'Percent'])\n",
    "missing_data.head(35)"
   ]
  },
  {
   "cell_type": "markdown",
   "metadata": {},
   "source": [
    "----\n",
    "我們知道目前資料類型有分為數值型與非數值型，我們可以先將這兩種不同型態的資料區分出來，各別對其缺失值做處理。<br>\n",
    "可用 select_dtypes(include=None, exclude=None) 將我們要的資料類型抽取出來。<br>\n",
    "若需要數值型，我們就讓 include = np.number。<br>\n",
    "若需要的資料是屬於字串類，我們就讓 include = 'object'<br>\n",
    "\n",
    "這裡我們先處理數值型的缺失資料。<br>\n",
    "\n",
    "---"
   ]
  },
  {
   "cell_type": "code",
   "execution_count": 94,
   "metadata": {},
   "outputs": [
    {
     "data": {
      "text/html": [
       "<div>\n",
       "<style scoped>\n",
       "    .dataframe tbody tr th:only-of-type {\n",
       "        vertical-align: middle;\n",
       "    }\n",
       "\n",
       "    .dataframe tbody tr th {\n",
       "        vertical-align: top;\n",
       "    }\n",
       "\n",
       "    .dataframe thead th {\n",
       "        text-align: right;\n",
       "    }\n",
       "</style>\n",
       "<table border=\"1\" class=\"dataframe\">\n",
       "  <thead>\n",
       "    <tr style=\"text-align: right;\">\n",
       "      <th></th>\n",
       "      <th>Total</th>\n",
       "      <th>Percent</th>\n",
       "    </tr>\n",
       "  </thead>\n",
       "  <tbody>\n",
       "    <tr>\n",
       "      <th>BreedingInterval</th>\n",
       "      <td>1536</td>\n",
       "      <td>0.040941</td>\n",
       "    </tr>\n",
       "    <tr>\n",
       "      <th>ParturitionInterval</th>\n",
       "      <td>1</td>\n",
       "      <td>0.000027</td>\n",
       "    </tr>\n",
       "    <tr>\n",
       "      <th>LastParturitionDays</th>\n",
       "      <td>1</td>\n",
       "      <td>0.000027</td>\n",
       "    </tr>\n",
       "    <tr>\n",
       "      <th>LactationDays</th>\n",
       "      <td>1</td>\n",
       "      <td>0.000027</td>\n",
       "    </tr>\n",
       "    <tr>\n",
       "      <th>BreedingTimes</th>\n",
       "      <td>0</td>\n",
       "      <td>0.000000</td>\n",
       "    </tr>\n",
       "    <tr>\n",
       "      <th>MonthAge</th>\n",
       "      <td>0</td>\n",
       "      <td>0.000000</td>\n",
       "    </tr>\n",
       "    <tr>\n",
       "      <th>Parity</th>\n",
       "      <td>0</td>\n",
       "      <td>0.000000</td>\n",
       "    </tr>\n",
       "  </tbody>\n",
       "</table>\n",
       "</div>"
      ],
      "text/plain": [
       "                     Total   Percent\n",
       "BreedingInterval      1536  0.040941\n",
       "ParturitionInterval      1  0.000027\n",
       "LastParturitionDays      1  0.000027\n",
       "LactationDays            1  0.000027\n",
       "BreedingTimes            0  0.000000\n",
       "MonthAge                 0  0.000000\n",
       "Parity                   0  0.000000"
      ]
     },
     "execution_count": 94,
     "metadata": {},
     "output_type": "execute_result"
    }
   ],
   "source": [
    "#Extract data type of numbers from features\n",
    "df_num = df.select_dtypes(include = np.number)\n",
    "\n",
    "num_total = df_num.isna().sum(axis = 0).sort_values(ascending = False)\n",
    "num_percent = df_num.isna().sum(axis = 0).sort_values(ascending = False)/df.shape[0]\n",
    "\n",
    "num_missing_data = pd.concat([num_total, num_percent], axis = 1, keys = ['Total', 'Percent'])\n",
    "num_missing_data.head(12)"
   ]
  },
  {
   "cell_type": "markdown",
   "metadata": {},
   "source": [
    "----\n",
    "我們再把數值類帶有缺失值的特徵重新做一次線型相關的熱圖。<br>\n",
    "這次可以再更仔細的看一下每一個 feature 之間的相關性如何。<br>\n",
    "\n",
    "---"
   ]
  },
  {
   "cell_type": "code",
   "execution_count": 95,
   "metadata": {},
   "outputs": [
    {
     "data": {
      "text/plain": [
       "<matplotlib.axes._subplots.AxesSubplot at 0x7efc54326588>"
      ]
     },
     "execution_count": 95,
     "metadata": {},
     "output_type": "execute_result"
    },
    {
     "data": {
      "image/png": "[encoded data removed]",
      "text/plain": [
       "<Figure size 720x540 with 2 Axes>"
      ]
     },
     "metadata": {
      "needs_background": "light"
     },
     "output_type": "display_data"
    }
   ],
   "source": [
    "num_mis_feat = train_report[['BreedingInterval', 'ParturitionInterval', 'LastParturitionDays', 'LactationDays', 'BreedingTimes', \n",
    "                          'MonthAge', 'Parity']]\n",
    "\n",
    "num_mis_df = pd.concat([num_mis_feat, trainMilkYield], axis = 1)\n",
    "\n",
    "corrmat_Num_Mis = num_mis_df.corr()\n",
    "f, ax = plt.subplots(figsize=(10, 7.5))\n",
    "sns.heatmap(corrmat_Num_Mis, cbar=True, annot=True, square=True, fmt='.2f', annot_kws={'size': 10})"
   ]
  },
  {
   "cell_type": "code",
   "execution_count": 96,
   "metadata": {},
   "outputs": [],
   "source": [
    "# 根據熱圖分析，我們去除掉相關性較小的胎次\n",
    "df.drop('Parity', axis = 1, inplace = True)"
   ]
  },
  {
   "cell_type": "markdown",
   "metadata": {},
   "source": [
    "----\n",
    "這邊將缺失值以平均數填入。\n",
    "\n",
    "---"
   ]
  },
  {
   "cell_type": "code",
   "execution_count": 97,
   "metadata": {},
   "outputs": [],
   "source": [
    "df['BreedingInterval'] = df.groupby(\"MonthAge\")['BreedingInterval'].transform(lambda x: x.fillna(x.mean()))"
   ]
  },
  {
   "cell_type": "code",
   "execution_count": 98,
   "metadata": {},
   "outputs": [
    {
     "name": "stdout",
     "output_type": "stream",
     "text": [
      "<class 'pandas.core.frame.DataFrame'>\n",
      "Int64Index: 37517 entries, 0 to 37484\n",
      "Data columns (total 1 columns):\n",
      "BreedingInterval    37517 non-null float64\n",
      "dtypes: float64(1)\n",
      "memory usage: 586.2 KB\n"
     ]
    }
   ],
   "source": [
    "df[['BreedingInterval']].info()"
   ]
  },
  {
   "cell_type": "code",
   "execution_count": 99,
   "metadata": {},
   "outputs": [
    {
     "data": {
      "text/html": [
       "<div>\n",
       "<style scoped>\n",
       "    .dataframe tbody tr th:only-of-type {\n",
       "        vertical-align: middle;\n",
       "    }\n",
       "\n",
       "    .dataframe tbody tr th {\n",
       "        vertical-align: top;\n",
       "    }\n",
       "\n",
       "    .dataframe thead th {\n",
       "        text-align: right;\n",
       "    }\n",
       "</style>\n",
       "<table border=\"1\" class=\"dataframe\">\n",
       "  <thead>\n",
       "    <tr style=\"text-align: right;\">\n",
       "      <th></th>\n",
       "      <th>BreedingInterval</th>\n",
       "      <th>LastParturitionDays</th>\n",
       "      <th>LactationDays</th>\n",
       "      <th>BreedingTimes</th>\n",
       "      <th>MonthAge</th>\n",
       "    </tr>\n",
       "  </thead>\n",
       "  <tbody>\n",
       "    <tr>\n",
       "      <th>16713</th>\n",
       "      <td>82.203804</td>\n",
       "      <td>NaN</td>\n",
       "      <td>NaN</td>\n",
       "      <td>0</td>\n",
       "      <td>24</td>\n",
       "    </tr>\n",
       "  </tbody>\n",
       "</table>\n",
       "</div>"
      ],
      "text/plain": [
       "       BreedingInterval  LastParturitionDays  LactationDays  BreedingTimes  \\\n",
       "16713         82.203804                  NaN            NaN              0   \n",
       "\n",
       "       MonthAge  \n",
       "16713        24  "
      ]
     },
     "execution_count": 99,
     "metadata": {},
     "output_type": "execute_result"
    }
   ],
   "source": [
    "df[df['ParturitionInterval'].isna() == True][['BreedingInterval', 'LastParturitionDays', 'LactationDays', 'BreedingTimes', 'MonthAge']].head(10)"
   ]
  },
  {
   "cell_type": "code",
   "execution_count": 100,
   "metadata": {},
   "outputs": [],
   "source": [
    "df['ParturitionInterval'].fillna(value=df['ParturitionInterval'].mean(), inplace=True)\n",
    "df['LastParturitionDays'].fillna(value=df['LastParturitionDays'].mean(), inplace=True)\n",
    "df['LactationDays'].fillna(value=df['LactationDays'].mean(), inplace=True)"
   ]
  },
  {
   "cell_type": "markdown",
   "metadata": {},
   "source": [
    "----\n",
    "接下來我們要處理字串型態資料欄位的缺失值。<br>\n",
    "先用 select_dtypes() 將字串型資料取出。<br>\n",
    "再將有缺失值特徵的欄位統整列出。\n",
    "\n",
    "---"
   ]
  },
  {
   "cell_type": "code",
   "execution_count": 101,
   "metadata": {},
   "outputs": [
    {
     "data": {
      "text/html": [
       "<div>\n",
       "<style scoped>\n",
       "    .dataframe tbody tr th:only-of-type {\n",
       "        vertical-align: middle;\n",
       "    }\n",
       "\n",
       "    .dataframe tbody tr th {\n",
       "        vertical-align: top;\n",
       "    }\n",
       "\n",
       "    .dataframe thead th {\n",
       "        text-align: right;\n",
       "    }\n",
       "</style>\n",
       "<table border=\"1\" class=\"dataframe\">\n",
       "  <thead>\n",
       "    <tr style=\"text-align: right;\">\n",
       "      <th></th>\n",
       "      <th>Total</th>\n",
       "      <th>Percent</th>\n",
       "    </tr>\n",
       "  </thead>\n",
       "  <tbody>\n",
       "    <tr>\n",
       "      <th>MotherID</th>\n",
       "      <td>3584</td>\n",
       "      <td>0.095530</td>\n",
       "    </tr>\n",
       "    <tr>\n",
       "      <th>LastSperm</th>\n",
       "      <td>1536</td>\n",
       "      <td>0.040941</td>\n",
       "    </tr>\n",
       "    <tr>\n",
       "      <th>FirstSperm</th>\n",
       "      <td>1431</td>\n",
       "      <td>0.038143</td>\n",
       "    </tr>\n",
       "    <tr>\n",
       "      <th>SpermID</th>\n",
       "      <td>876</td>\n",
       "      <td>0.023349</td>\n",
       "    </tr>\n",
       "    <tr>\n",
       "      <th>CowID</th>\n",
       "      <td>0</td>\n",
       "      <td>0.000000</td>\n",
       "    </tr>\n",
       "    <tr>\n",
       "      <th>FarmID</th>\n",
       "      <td>0</td>\n",
       "      <td>0.000000</td>\n",
       "    </tr>\n",
       "  </tbody>\n",
       "</table>\n",
       "</div>"
      ],
      "text/plain": [
       "            Total   Percent\n",
       "MotherID     3584  0.095530\n",
       "LastSperm    1536  0.040941\n",
       "FirstSperm   1431  0.038143\n",
       "SpermID       876  0.023349\n",
       "CowID           0  0.000000\n",
       "FarmID          0  0.000000"
      ]
     },
     "execution_count": 101,
     "metadata": {},
     "output_type": "execute_result"
    }
   ],
   "source": [
    "#Extract data type of object from features\n",
    "df_obj = df.select_dtypes(include = 'object')\n",
    "\n",
    "obj_total = df_obj.isna().sum(axis = 0).sort_values(ascending = False)\n",
    "obj_percent = df_obj.isna().sum(axis = 0).sort_values(ascending = False)/df.shape[0]\n",
    "\n",
    "obj_missing_data = pd.concat([obj_total, obj_percent], axis = 1, keys = ['Total', 'Percent'])\n",
    "obj_missing_data.head(25)"
   ]
  },
  {
   "cell_type": "markdown",
   "metadata": {},
   "source": [
    "----\n",
    "給定條件將有缺失值的欄位用 index 列出來，方便用來複製貼上。\n",
    "\n",
    "---"
   ]
  },
  {
   "cell_type": "code",
   "execution_count": 102,
   "metadata": {},
   "outputs": [
    {
     "data": {
      "text/plain": [
       "Index(['MotherID', 'LastSperm', 'FirstSperm', 'SpermID'], dtype='object')"
      ]
     },
     "execution_count": 102,
     "metadata": {},
     "output_type": "execute_result"
    }
   ],
   "source": [
    "obj_missing_data[obj_missing_data.Total != 0].index"
   ]
  },
  {
   "cell_type": "markdown",
   "metadata": {},
   "source": [
    "----\n",
    "接下來我們要來看母親乳牛編號特徵。\n",
    "\n",
    "---"
   ]
  },
  {
   "cell_type": "code",
   "execution_count": 103,
   "metadata": {},
   "outputs": [
    {
     "data": {
      "text/html": [
       "<div>\n",
       "<style scoped>\n",
       "    .dataframe tbody tr th:only-of-type {\n",
       "        vertical-align: middle;\n",
       "    }\n",
       "\n",
       "    .dataframe tbody tr th {\n",
       "        vertical-align: top;\n",
       "    }\n",
       "\n",
       "    .dataframe thead th {\n",
       "        text-align: right;\n",
       "    }\n",
       "</style>\n",
       "<table border=\"1\" class=\"dataframe\">\n",
       "  <thead>\n",
       "    <tr style=\"text-align: right;\">\n",
       "      <th></th>\n",
       "      <th>MotherID</th>\n",
       "    </tr>\n",
       "  </thead>\n",
       "  <tbody>\n",
       "    <tr>\n",
       "      <th>count</th>\n",
       "      <td>33933</td>\n",
       "    </tr>\n",
       "    <tr>\n",
       "      <th>unique</th>\n",
       "      <td>1266</td>\n",
       "    </tr>\n",
       "    <tr>\n",
       "      <th>top</th>\n",
       "      <td>外購</td>\n",
       "    </tr>\n",
       "    <tr>\n",
       "      <th>freq</th>\n",
       "      <td>2231</td>\n",
       "    </tr>\n",
       "  </tbody>\n",
       "</table>\n",
       "</div>"
      ],
      "text/plain": [
       "       MotherID\n",
       "count     33933\n",
       "unique     1266\n",
       "top          外購\n",
       "freq       2231"
      ]
     },
     "execution_count": 103,
     "metadata": {},
     "output_type": "execute_result"
    }
   ],
   "source": [
    "df[['MotherID']].describe()"
   ]
  },
  {
   "cell_type": "markdown",
   "metadata": {},
   "source": [
    "----\n",
    "用 describe() 觀察之。<br>\n",
    "發現外購比例最高，加上缺失資料，故判定不具參考價值。\n",
    "\n",
    "---"
   ]
  },
  {
   "cell_type": "code",
   "execution_count": 104,
   "metadata": {},
   "outputs": [],
   "source": [
    "# df['MotherID'] = df['MotherID'].fillna(df['MotherID'].mode()[0])\n",
    "df.drop('MotherID', axis = 1, inplace = True)"
   ]
  },
  {
   "cell_type": "markdown",
   "metadata": {},
   "source": [
    "----\n",
    "最後配種精液這項特徵暫時以樣本數最多的代替缺失值。\n",
    "\n",
    "---"
   ]
  },
  {
   "cell_type": "code",
   "execution_count": 105,
   "metadata": {},
   "outputs": [
    {
     "data": {
      "text/html": [
       "<div>\n",
       "<style scoped>\n",
       "    .dataframe tbody tr th:only-of-type {\n",
       "        vertical-align: middle;\n",
       "    }\n",
       "\n",
       "    .dataframe tbody tr th {\n",
       "        vertical-align: top;\n",
       "    }\n",
       "\n",
       "    .dataframe thead th {\n",
       "        text-align: right;\n",
       "    }\n",
       "</style>\n",
       "<table border=\"1\" class=\"dataframe\">\n",
       "  <thead>\n",
       "    <tr style=\"text-align: right;\">\n",
       "      <th></th>\n",
       "      <th>LastSperm</th>\n",
       "    </tr>\n",
       "  </thead>\n",
       "  <tbody>\n",
       "    <tr>\n",
       "      <th>count</th>\n",
       "      <td>35981</td>\n",
       "    </tr>\n",
       "    <tr>\n",
       "      <th>unique</th>\n",
       "      <td>201</td>\n",
       "    </tr>\n",
       "    <tr>\n",
       "      <th>top</th>\n",
       "      <td>001HO12927</td>\n",
       "    </tr>\n",
       "    <tr>\n",
       "      <th>freq</th>\n",
       "      <td>1347</td>\n",
       "    </tr>\n",
       "  </tbody>\n",
       "</table>\n",
       "</div>"
      ],
      "text/plain": [
       "         LastSperm\n",
       "count        35981\n",
       "unique         201\n",
       "top     001HO12927\n",
       "freq          1347"
      ]
     },
     "execution_count": 105,
     "metadata": {},
     "output_type": "execute_result"
    }
   ],
   "source": [
    "df[['LastSperm']].describe()"
   ]
  },
  {
   "cell_type": "code",
   "execution_count": 106,
   "metadata": {},
   "outputs": [],
   "source": [
    "df['LastSperm'] = df['LastSperm'].fillna(df['LastSperm'].mode()[0])"
   ]
  },
  {
   "cell_type": "markdown",
   "metadata": {},
   "source": [
    "----\n",
    "第一次配種精液比照最後配種精液辦理。\n",
    "\n",
    "---"
   ]
  },
  {
   "cell_type": "code",
   "execution_count": 107,
   "metadata": {},
   "outputs": [
    {
     "data": {
      "text/html": [
       "<div>\n",
       "<style scoped>\n",
       "    .dataframe tbody tr th:only-of-type {\n",
       "        vertical-align: middle;\n",
       "    }\n",
       "\n",
       "    .dataframe tbody tr th {\n",
       "        vertical-align: top;\n",
       "    }\n",
       "\n",
       "    .dataframe thead th {\n",
       "        text-align: right;\n",
       "    }\n",
       "</style>\n",
       "<table border=\"1\" class=\"dataframe\">\n",
       "  <thead>\n",
       "    <tr style=\"text-align: right;\">\n",
       "      <th></th>\n",
       "      <th>FirstSperm</th>\n",
       "    </tr>\n",
       "  </thead>\n",
       "  <tbody>\n",
       "    <tr>\n",
       "      <th>count</th>\n",
       "      <td>36086</td>\n",
       "    </tr>\n",
       "    <tr>\n",
       "      <th>unique</th>\n",
       "      <td>216</td>\n",
       "    </tr>\n",
       "    <tr>\n",
       "      <th>top</th>\n",
       "      <td>200H4779</td>\n",
       "    </tr>\n",
       "    <tr>\n",
       "      <th>freq</th>\n",
       "      <td>1686</td>\n",
       "    </tr>\n",
       "  </tbody>\n",
       "</table>\n",
       "</div>"
      ],
      "text/plain": [
       "       FirstSperm\n",
       "count       36086\n",
       "unique        216\n",
       "top      200H4779\n",
       "freq         1686"
      ]
     },
     "execution_count": 107,
     "metadata": {},
     "output_type": "execute_result"
    }
   ],
   "source": [
    "df[['FirstSperm']].describe()"
   ]
  },
  {
   "cell_type": "code",
   "execution_count": 108,
   "metadata": {},
   "outputs": [],
   "source": [
    "df['FirstSperm'] = df['FirstSperm'].fillna(df['FirstSperm'].mode()[0])"
   ]
  },
  {
   "cell_type": "markdown",
   "metadata": {},
   "source": [
    "----\n",
    "父親牛精液編號外購比例最高，比照母親乳牛編號，我們認定這是沒用的特徵，刪除之。\n",
    "\n",
    "---"
   ]
  },
  {
   "cell_type": "code",
   "execution_count": 109,
   "metadata": {},
   "outputs": [
    {
     "data": {
      "text/html": [
       "<div>\n",
       "<style scoped>\n",
       "    .dataframe tbody tr th:only-of-type {\n",
       "        vertical-align: middle;\n",
       "    }\n",
       "\n",
       "    .dataframe tbody tr th {\n",
       "        vertical-align: top;\n",
       "    }\n",
       "\n",
       "    .dataframe thead th {\n",
       "        text-align: right;\n",
       "    }\n",
       "</style>\n",
       "<table border=\"1\" class=\"dataframe\">\n",
       "  <thead>\n",
       "    <tr style=\"text-align: right;\">\n",
       "      <th></th>\n",
       "      <th>SpermID</th>\n",
       "    </tr>\n",
       "  </thead>\n",
       "  <tbody>\n",
       "    <tr>\n",
       "      <th>count</th>\n",
       "      <td>36641</td>\n",
       "    </tr>\n",
       "    <tr>\n",
       "      <th>unique</th>\n",
       "      <td>343</td>\n",
       "    </tr>\n",
       "    <tr>\n",
       "      <th>top</th>\n",
       "      <td>外購</td>\n",
       "    </tr>\n",
       "    <tr>\n",
       "      <th>freq</th>\n",
       "      <td>1950</td>\n",
       "    </tr>\n",
       "  </tbody>\n",
       "</table>\n",
       "</div>"
      ],
      "text/plain": [
       "       SpermID\n",
       "count    36641\n",
       "unique     343\n",
       "top         外購\n",
       "freq      1950"
      ]
     },
     "execution_count": 109,
     "metadata": {},
     "output_type": "execute_result"
    }
   ],
   "source": [
    "df[['SpermID']].describe()"
   ]
  },
  {
   "cell_type": "code",
   "execution_count": 110,
   "metadata": {},
   "outputs": [],
   "source": [
    "df.drop('SpermID', axis = 1, inplace = True)"
   ]
  },
  {
   "cell_type": "markdown",
   "metadata": {},
   "source": [
    "----\n",
    "到目前為止，缺失值的資料已經全部補上。<br>\n",
    "在處理缺失值時，上面的基本原則是先想辦法補值，不要輕易 drop 掉一個 feature。<br>\n",
    "\n",
    "除非是那些明顯無用的 feature 可以先 drop。<br>\n",
    "不然的話可以先試著補值，待在做模型訓練時，再來考慮 feature 的增刪。<br>\n",
    "\n",
    "由於做模型訓練應該會是個反覆的實驗過程，除了參數的調整以外，我們還會考慮到是否需要增加或減少 feature，來讓模型學得更好。<br>\n",
    "屆時我們可以再依照我們對資料本身的理解做增刪的動作。<br>\n",
    "\n",
    "以下我們再檢查一次缺失值是否已經完全補完:\n",
    "\n",
    "---"
   ]
  },
  {
   "cell_type": "code",
   "execution_count": 111,
   "metadata": {},
   "outputs": [
    {
     "data": {
      "text/plain": [
       "FirstSperm             0\n",
       "BreedingInterval       0\n",
       "ParturitionInterval    0\n",
       "BreedingTimes          0\n",
       "LastSperm              0\n",
       "dtype: int64"
      ]
     },
     "execution_count": 111,
     "metadata": {},
     "output_type": "execute_result"
    }
   ],
   "source": [
    "df.isna().sum(axis = 0).sort_values(ascending = False).head()"
   ]
  },
  {
   "cell_type": "code",
   "execution_count": 112,
   "metadata": {},
   "outputs": [
    {
     "data": {
      "text/html": [
       "<div>\n",
       "<style scoped>\n",
       "    .dataframe tbody tr th:only-of-type {\n",
       "        vertical-align: middle;\n",
       "    }\n",
       "\n",
       "    .dataframe tbody tr th {\n",
       "        vertical-align: top;\n",
       "    }\n",
       "\n",
       "    .dataframe thead th {\n",
       "        text-align: right;\n",
       "    }\n",
       "</style>\n",
       "<table border=\"1\" class=\"dataframe\">\n",
       "  <thead>\n",
       "    <tr style=\"text-align: right;\">\n",
       "      <th></th>\n",
       "      <th>FarmID</th>\n",
       "      <th>CowID</th>\n",
       "      <th>LactationDays</th>\n",
       "      <th>LastParturitionDays</th>\n",
       "      <th>MonthAge</th>\n",
       "      <th>LastSperm</th>\n",
       "      <th>BreedingTimes</th>\n",
       "      <th>ParturitionInterval</th>\n",
       "      <th>BreedingInterval</th>\n",
       "      <th>FirstSperm</th>\n",
       "    </tr>\n",
       "  </thead>\n",
       "  <tbody>\n",
       "    <tr>\n",
       "      <th>0</th>\n",
       "      <td>A</td>\n",
       "      <td>52612</td>\n",
       "      <td>78.0</td>\n",
       "      <td>78.0</td>\n",
       "      <td>26</td>\n",
       "      <td>507H11621</td>\n",
       "      <td>1</td>\n",
       "      <td>0.0</td>\n",
       "      <td>791.0</td>\n",
       "      <td>501H8784</td>\n",
       "    </tr>\n",
       "    <tr>\n",
       "      <th>1</th>\n",
       "      <td>A</td>\n",
       "      <td>52612</td>\n",
       "      <td>107.0</td>\n",
       "      <td>107.0</td>\n",
       "      <td>27</td>\n",
       "      <td>507H11621</td>\n",
       "      <td>1</td>\n",
       "      <td>0.0</td>\n",
       "      <td>791.0</td>\n",
       "      <td>501H8784</td>\n",
       "    </tr>\n",
       "    <tr>\n",
       "      <th>2</th>\n",
       "      <td>A</td>\n",
       "      <td>52612</td>\n",
       "      <td>140.0</td>\n",
       "      <td>140.0</td>\n",
       "      <td>28</td>\n",
       "      <td>507H11621</td>\n",
       "      <td>2</td>\n",
       "      <td>0.0</td>\n",
       "      <td>791.0</td>\n",
       "      <td>501H8784</td>\n",
       "    </tr>\n",
       "    <tr>\n",
       "      <th>3</th>\n",
       "      <td>A</td>\n",
       "      <td>52612</td>\n",
       "      <td>175.0</td>\n",
       "      <td>175.0</td>\n",
       "      <td>29</td>\n",
       "      <td>507H11621</td>\n",
       "      <td>2</td>\n",
       "      <td>0.0</td>\n",
       "      <td>791.0</td>\n",
       "      <td>501H8784</td>\n",
       "    </tr>\n",
       "    <tr>\n",
       "      <th>4</th>\n",
       "      <td>A</td>\n",
       "      <td>52612</td>\n",
       "      <td>210.0</td>\n",
       "      <td>210.0</td>\n",
       "      <td>30</td>\n",
       "      <td>507H11621</td>\n",
       "      <td>2</td>\n",
       "      <td>0.0</td>\n",
       "      <td>791.0</td>\n",
       "      <td>501H8784</td>\n",
       "    </tr>\n",
       "  </tbody>\n",
       "</table>\n",
       "</div>"
      ],
      "text/plain": [
       "  FarmID  CowID  LactationDays  LastParturitionDays  MonthAge  LastSperm  \\\n",
       "0      A  52612           78.0                 78.0        26  507H11621   \n",
       "1      A  52612          107.0                107.0        27  507H11621   \n",
       "2      A  52612          140.0                140.0        28  507H11621   \n",
       "3      A  52612          175.0                175.0        29  507H11621   \n",
       "4      A  52612          210.0                210.0        30  507H11621   \n",
       "\n",
       "   BreedingTimes  ParturitionInterval  BreedingInterval FirstSperm  \n",
       "0              1                  0.0             791.0   501H8784  \n",
       "1              1                  0.0             791.0   501H8784  \n",
       "2              2                  0.0             791.0   501H8784  \n",
       "3              2                  0.0             791.0   501H8784  \n",
       "4              2                  0.0             791.0   501H8784  "
      ]
     },
     "execution_count": 112,
     "metadata": {},
     "output_type": "execute_result"
    }
   ],
   "source": [
    "df.head()"
   ]
  },
  {
   "cell_type": "markdown",
   "metadata": {},
   "source": [
    "# Encoding and Feature Scaling (Data Normalization)"
   ]
  },
  {
   "cell_type": "markdown",
   "metadata": {},
   "source": [
    "### Label Encoding"
   ]
  },
  {
   "cell_type": "markdown",
   "metadata": {},
   "source": [
    "----\n",
    "先將數值型與字串型資料的特徵預備好，以供複製貼上。\n",
    "\n",
    "---"
   ]
  },
  {
   "cell_type": "code",
   "execution_count": 113,
   "metadata": {},
   "outputs": [
    {
     "name": "stdout",
     "output_type": "stream",
     "text": [
      "col_num:  Index(['LactationDays', 'LastParturitionDays', 'MonthAge', 'BreedingTimes',\n",
      "       'ParturitionInterval', 'BreedingInterval'],\n",
      "      dtype='object')\n",
      "col_obj:  Index(['FarmID', 'CowID', 'LastSperm', 'FirstSperm'], dtype='object')\n"
     ]
    }
   ],
   "source": [
    "col_num = df.select_dtypes(include = np.number).columns\n",
    "col_obj = df.select_dtypes(include = 'object').columns\n",
    "\n",
    "print('col_num: ', col_num)\n",
    "print('col_obj: ', col_obj)"
   ]
  },
  {
   "cell_type": "markdown",
   "metadata": {},
   "source": [
    "### Feature Scaling"
   ]
  },
  {
   "cell_type": "markdown",
   "metadata": {},
   "source": [
    "----\n",
    "我們來查看數值型特徵的偏度(skewness)。\n",
    "\n",
    "---"
   ]
  },
  {
   "cell_type": "code",
   "execution_count": 114,
   "metadata": {},
   "outputs": [
    {
     "name": "stdout",
     "output_type": "stream",
     "text": [
      "\n",
      "Skew in numerical features: \n",
      "\n"
     ]
    },
    {
     "data": {
      "text/html": [
       "<div>\n",
       "<style scoped>\n",
       "    .dataframe tbody tr th:only-of-type {\n",
       "        vertical-align: middle;\n",
       "    }\n",
       "\n",
       "    .dataframe tbody tr th {\n",
       "        vertical-align: top;\n",
       "    }\n",
       "\n",
       "    .dataframe thead th {\n",
       "        text-align: right;\n",
       "    }\n",
       "</style>\n",
       "<table border=\"1\" class=\"dataframe\">\n",
       "  <thead>\n",
       "    <tr style=\"text-align: right;\">\n",
       "      <th></th>\n",
       "      <th>Skew</th>\n",
       "    </tr>\n",
       "  </thead>\n",
       "  <tbody>\n",
       "    <tr>\n",
       "      <th>BreedingTimes</th>\n",
       "      <td>1.834887</td>\n",
       "    </tr>\n",
       "    <tr>\n",
       "      <th>MonthAge</th>\n",
       "      <td>1.477721</td>\n",
       "    </tr>\n",
       "    <tr>\n",
       "      <th>BreedingInterval</th>\n",
       "      <td>1.467041</td>\n",
       "    </tr>\n",
       "    <tr>\n",
       "      <th>LastParturitionDays</th>\n",
       "      <td>1.132602</td>\n",
       "    </tr>\n",
       "    <tr>\n",
       "      <th>LactationDays</th>\n",
       "      <td>1.132602</td>\n",
       "    </tr>\n",
       "    <tr>\n",
       "      <th>ParturitionInterval</th>\n",
       "      <td>0.469138</td>\n",
       "    </tr>\n",
       "  </tbody>\n",
       "</table>\n",
       "</div>"
      ],
      "text/plain": [
       "                         Skew\n",
       "BreedingTimes        1.834887\n",
       "MonthAge             1.477721\n",
       "BreedingInterval     1.467041\n",
       "LastParturitionDays  1.132602\n",
       "LactationDays        1.132602\n",
       "ParturitionInterval  0.469138"
      ]
     },
     "execution_count": 114,
     "metadata": {},
     "output_type": "execute_result"
    }
   ],
   "source": [
    "from scipy import stats\n",
    "from scipy.stats import norm, skew\n",
    "\n",
    "num_feats = df.dtypes[df.dtypes != \"object\"].index\n",
    "\n",
    "# Check the skew of all numerical features\n",
    "skewed_feats = df[num_feats].apply(lambda x: skew(x.dropna())).sort_values(ascending=False)\n",
    "print(\"\\nSkew in numerical features: \\n\")\n",
    "skewness = pd.DataFrame({'Skew' :skewed_feats})\n",
    "skewness.head(10)"
   ]
  },
  {
   "cell_type": "markdown",
   "metadata": {},
   "source": [
    "----\n",
    "以 Box-Cox Transform 來降低偏度。\n",
    "\n",
    "有關 Box-Cox Transform 的描述可以參考：<br>\n",
    "\n",
    "http://onlinestatbook.com/2/transformations/box-cox.html<br>\n",
    "https://docs.scipy.org/doc/scipy-0.19.0/reference/generated/scipy.special.boxcox1p.html<br>\n",
    "\n",
    "\n",
    "---"
   ]
  },
  {
   "cell_type": "code",
   "execution_count": 115,
   "metadata": {},
   "outputs": [
    {
     "name": "stdout",
     "output_type": "stream",
     "text": [
      "There are 6 skewed numerical features to Box Cox transform\n"
     ]
    }
   ],
   "source": [
    "skewness = skewness[abs(skewness) > 0.75]\n",
    "print(\"There are {} skewed numerical features to Box Cox transform\".format(skewness.shape[0]))\n",
    "\n",
    "from scipy.special import boxcox1p\n",
    "skewed_features = skewness.index\n",
    "lam = 0.15\n",
    "for feat in skewed_features:\n",
    "    #df[feat] += 1\n",
    "    df[feat] = boxcox1p(df[feat], lam)\n",
    "    #df[skewed_features] = np.log1p(df[skewed_features])\n",
    "    \n",
    "#df[skewed_features] = np.log1p(df[skewed_features])"
   ]
  },
  {
   "cell_type": "code",
   "execution_count": 116,
   "metadata": {},
   "outputs": [
    {
     "name": "stdout",
     "output_type": "stream",
     "text": [
      "\n",
      "Skew in numerical features: \n",
      "\n"
     ]
    },
    {
     "data": {
      "text/html": [
       "<div>\n",
       "<style scoped>\n",
       "    .dataframe tbody tr th:only-of-type {\n",
       "        vertical-align: middle;\n",
       "    }\n",
       "\n",
       "    .dataframe tbody tr th {\n",
       "        vertical-align: top;\n",
       "    }\n",
       "\n",
       "    .dataframe thead th {\n",
       "        text-align: right;\n",
       "    }\n",
       "</style>\n",
       "<table border=\"1\" class=\"dataframe\">\n",
       "  <thead>\n",
       "    <tr style=\"text-align: right;\">\n",
       "      <th></th>\n",
       "      <th>Skew</th>\n",
       "    </tr>\n",
       "  </thead>\n",
       "  <tbody>\n",
       "    <tr>\n",
       "      <th>MonthAge</th>\n",
       "      <td>0.467930</td>\n",
       "    </tr>\n",
       "    <tr>\n",
       "      <th>BreedingTimes</th>\n",
       "      <td>0.405690</td>\n",
       "    </tr>\n",
       "    <tr>\n",
       "      <th>ParturitionInterval</th>\n",
       "      <td>-0.102513</td>\n",
       "    </tr>\n",
       "    <tr>\n",
       "      <th>BreedingInterval</th>\n",
       "      <td>-0.482645</td>\n",
       "    </tr>\n",
       "    <tr>\n",
       "      <th>LastParturitionDays</th>\n",
       "      <td>-0.662895</td>\n",
       "    </tr>\n",
       "    <tr>\n",
       "      <th>LactationDays</th>\n",
       "      <td>-0.662895</td>\n",
       "    </tr>\n",
       "  </tbody>\n",
       "</table>\n",
       "</div>"
      ],
      "text/plain": [
       "                         Skew\n",
       "MonthAge             0.467930\n",
       "BreedingTimes        0.405690\n",
       "ParturitionInterval -0.102513\n",
       "BreedingInterval    -0.482645\n",
       "LastParturitionDays -0.662895\n",
       "LactationDays       -0.662895"
      ]
     },
     "execution_count": 116,
     "metadata": {},
     "output_type": "execute_result"
    }
   ],
   "source": [
    "skewed_feats = df[num_feats].apply(lambda x: skew(x.dropna())).sort_values(ascending=False)\n",
    "print(\"\\nSkew in numerical features: \\n\")\n",
    "skewness = pd.DataFrame({'Skew' :skewed_feats})\n",
    "skewness.head(10)"
   ]
  },
  {
   "cell_type": "markdown",
   "metadata": {},
   "source": [
    "----\n",
    "接下來我們做對數值型特徵做 feature scaling。\n",
    "\n",
    "---"
   ]
  },
  {
   "cell_type": "code",
   "execution_count": 117,
   "metadata": {},
   "outputs": [],
   "source": [
    "from sklearn.preprocessing import scale\n",
    "\n",
    "for i in num_feats:\n",
    "    df[i] = scale(df[i])"
   ]
  },
  {
   "cell_type": "markdown",
   "metadata": {},
   "source": [
    "----\n",
    "要注意，做 feature scaling 之前，要先把偏度過大的 feature 做一些降低偏度的轉換。<br>\n",
    "\n",
    "當某 feature 偏度大時代表該 feature 的資料分佈會有離群值(outlier)的現象，而離群值(outlier)會對一般 scaling 的方法產生不好的影響。<br>\n",
    "因此我們應當先以 Box-Cox 或其他可降低偏度的轉換，將偏度降低，再做 scaling。<br>\n",
    "\n",
    "關於 outlier 對 scaling 的影響可參考以下這篇：<br>\n",
    "\n",
    "https://scikit-learn.org/stable/auto_examples/preprocessing/plot_all_scaling.html#sphx-glr-auto-examples-preprocessing-plot-all-scaling-py\n",
    "\n",
    "---"
   ]
  },
  {
   "cell_type": "markdown",
   "metadata": {},
   "source": [
    "### One-Hot Encoding"
   ]
  },
  {
   "cell_type": "markdown",
   "metadata": {},
   "source": [
    "----\n",
    "使用 get_dummies 做 one-hot encoding。\n",
    "\n",
    "---"
   ]
  },
  {
   "cell_type": "code",
   "execution_count": 118,
   "metadata": {},
   "outputs": [],
   "source": [
    "df = pd.get_dummies(df)"
   ]
  },
  {
   "cell_type": "code",
   "execution_count": 119,
   "metadata": {},
   "outputs": [
    {
     "data": {
      "text/html": [
       "<div>\n",
       "<style scoped>\n",
       "    .dataframe tbody tr th:only-of-type {\n",
       "        vertical-align: middle;\n",
       "    }\n",
       "\n",
       "    .dataframe tbody tr th {\n",
       "        vertical-align: top;\n",
       "    }\n",
       "\n",
       "    .dataframe thead th {\n",
       "        text-align: right;\n",
       "    }\n",
       "</style>\n",
       "<table border=\"1\" class=\"dataframe\">\n",
       "  <thead>\n",
       "    <tr style=\"text-align: right;\">\n",
       "      <th></th>\n",
       "      <th>LactationDays</th>\n",
       "      <th>LastParturitionDays</th>\n",
       "      <th>MonthAge</th>\n",
       "      <th>BreedingTimes</th>\n",
       "      <th>ParturitionInterval</th>\n",
       "      <th>BreedingInterval</th>\n",
       "      <th>FarmID_A</th>\n",
       "      <th>FarmID_B</th>\n",
       "      <th>FarmID_C</th>\n",
       "      <th>CowID_1051813</th>\n",
       "      <th>...</th>\n",
       "      <th>FirstSperm_7H9754</th>\n",
       "      <th>FirstSperm_7H9900</th>\n",
       "      <th>FirstSperm_7H9925</th>\n",
       "      <th>FirstSperm_7H9961</th>\n",
       "      <th>FirstSperm_H01</th>\n",
       "      <th>FirstSperm_H02</th>\n",
       "      <th>FirstSperm_J5H54028</th>\n",
       "      <th>FirstSperm_JP5H54028</th>\n",
       "      <th>FirstSperm_T222</th>\n",
       "      <th>FirstSperm_TW1HO00521</th>\n",
       "    </tr>\n",
       "  </thead>\n",
       "  <tbody>\n",
       "    <tr>\n",
       "      <th>0</th>\n",
       "      <td>-0.712043</td>\n",
       "      <td>-0.712043</td>\n",
       "      <td>-1.382600</td>\n",
       "      <td>-0.311497</td>\n",
       "      <td>-1.065656</td>\n",
       "      <td>1.678725</td>\n",
       "      <td>1</td>\n",
       "      <td>0</td>\n",
       "      <td>0</td>\n",
       "      <td>0</td>\n",
       "      <td>...</td>\n",
       "      <td>0</td>\n",
       "      <td>0</td>\n",
       "      <td>0</td>\n",
       "      <td>0</td>\n",
       "      <td>0</td>\n",
       "      <td>0</td>\n",
       "      <td>0</td>\n",
       "      <td>0</td>\n",
       "      <td>0</td>\n",
       "      <td>0</td>\n",
       "    </tr>\n",
       "    <tr>\n",
       "      <th>1</th>\n",
       "      <td>-0.392072</td>\n",
       "      <td>-0.392072</td>\n",
       "      <td>-1.290571</td>\n",
       "      <td>-0.311497</td>\n",
       "      <td>-1.065656</td>\n",
       "      <td>1.678725</td>\n",
       "      <td>1</td>\n",
       "      <td>0</td>\n",
       "      <td>0</td>\n",
       "      <td>0</td>\n",
       "      <td>...</td>\n",
       "      <td>0</td>\n",
       "      <td>0</td>\n",
       "      <td>0</td>\n",
       "      <td>0</td>\n",
       "      <td>0</td>\n",
       "      <td>0</td>\n",
       "      <td>0</td>\n",
       "      <td>0</td>\n",
       "      <td>0</td>\n",
       "      <td>0</td>\n",
       "    </tr>\n",
       "    <tr>\n",
       "      <th>2</th>\n",
       "      <td>-0.107121</td>\n",
       "      <td>-0.107121</td>\n",
       "      <td>-1.201295</td>\n",
       "      <td>0.304421</td>\n",
       "      <td>-1.065656</td>\n",
       "      <td>1.678725</td>\n",
       "      <td>1</td>\n",
       "      <td>0</td>\n",
       "      <td>0</td>\n",
       "      <td>0</td>\n",
       "      <td>...</td>\n",
       "      <td>0</td>\n",
       "      <td>0</td>\n",
       "      <td>0</td>\n",
       "      <td>0</td>\n",
       "      <td>0</td>\n",
       "      <td>0</td>\n",
       "      <td>0</td>\n",
       "      <td>0</td>\n",
       "      <td>0</td>\n",
       "      <td>0</td>\n",
       "    </tr>\n",
       "    <tr>\n",
       "      <th>3</th>\n",
       "      <td>0.138674</td>\n",
       "      <td>0.138674</td>\n",
       "      <td>-1.114598</td>\n",
       "      <td>0.304421</td>\n",
       "      <td>-1.065656</td>\n",
       "      <td>1.678725</td>\n",
       "      <td>1</td>\n",
       "      <td>0</td>\n",
       "      <td>0</td>\n",
       "      <td>0</td>\n",
       "      <td>...</td>\n",
       "      <td>0</td>\n",
       "      <td>0</td>\n",
       "      <td>0</td>\n",
       "      <td>0</td>\n",
       "      <td>0</td>\n",
       "      <td>0</td>\n",
       "      <td>0</td>\n",
       "      <td>0</td>\n",
       "      <td>0</td>\n",
       "      <td>0</td>\n",
       "    </tr>\n",
       "    <tr>\n",
       "      <th>4</th>\n",
       "      <td>0.345907</td>\n",
       "      <td>0.345907</td>\n",
       "      <td>-1.030324</td>\n",
       "      <td>0.304421</td>\n",
       "      <td>-1.065656</td>\n",
       "      <td>1.678725</td>\n",
       "      <td>1</td>\n",
       "      <td>0</td>\n",
       "      <td>0</td>\n",
       "      <td>0</td>\n",
       "      <td>...</td>\n",
       "      <td>0</td>\n",
       "      <td>0</td>\n",
       "      <td>0</td>\n",
       "      <td>0</td>\n",
       "      <td>0</td>\n",
       "      <td>0</td>\n",
       "      <td>0</td>\n",
       "      <td>0</td>\n",
       "      <td>0</td>\n",
       "      <td>0</td>\n",
       "    </tr>\n",
       "  </tbody>\n",
       "</table>\n",
       "<p>5 rows × 2417 columns</p>\n",
       "</div>"
      ],
      "text/plain": [
       "   LactationDays  LastParturitionDays  MonthAge  BreedingTimes  \\\n",
       "0      -0.712043            -0.712043 -1.382600      -0.311497   \n",
       "1      -0.392072            -0.392072 -1.290571      -0.311497   \n",
       "2      -0.107121            -0.107121 -1.201295       0.304421   \n",
       "3       0.138674             0.138674 -1.114598       0.304421   \n",
       "4       0.345907             0.345907 -1.030324       0.304421   \n",
       "\n",
       "   ParturitionInterval  BreedingInterval  FarmID_A  FarmID_B  FarmID_C  \\\n",
       "0            -1.065656          1.678725         1         0         0   \n",
       "1            -1.065656          1.678725         1         0         0   \n",
       "2            -1.065656          1.678725         1         0         0   \n",
       "3            -1.065656          1.678725         1         0         0   \n",
       "4            -1.065656          1.678725         1         0         0   \n",
       "\n",
       "   CowID_1051813  ...  FirstSperm_7H9754  FirstSperm_7H9900  \\\n",
       "0              0  ...                  0                  0   \n",
       "1              0  ...                  0                  0   \n",
       "2              0  ...                  0                  0   \n",
       "3              0  ...                  0                  0   \n",
       "4              0  ...                  0                  0   \n",
       "\n",
       "   FirstSperm_7H9925  FirstSperm_7H9961  FirstSperm_H01  FirstSperm_H02  \\\n",
       "0                  0                  0               0               0   \n",
       "1                  0                  0               0               0   \n",
       "2                  0                  0               0               0   \n",
       "3                  0                  0               0               0   \n",
       "4                  0                  0               0               0   \n",
       "\n",
       "   FirstSperm_J5H54028  FirstSperm_JP5H54028  FirstSperm_T222  \\\n",
       "0                    0                     0                0   \n",
       "1                    0                     0                0   \n",
       "2                    0                     0                0   \n",
       "3                    0                     0                0   \n",
       "4                    0                     0                0   \n",
       "\n",
       "   FirstSperm_TW1HO00521  \n",
       "0                      0  \n",
       "1                      0  \n",
       "2                      0  \n",
       "3                      0  \n",
       "4                      0  \n",
       "\n",
       "[5 rows x 2417 columns]"
      ]
     },
     "execution_count": 119,
     "metadata": {},
     "output_type": "execute_result"
    }
   ],
   "source": [
    "df.head()"
   ]
  },
  {
   "cell_type": "markdown",
   "metadata": {},
   "source": [
    "# Modeling"
   ]
  },
  {
   "cell_type": "markdown",
   "metadata": {},
   "source": [
    "----\n",
    "先將 training data 和 testing data 拆開。<br>\n",
    "\n",
    "以 training data 來完成 modeling 即訓練。<br>\n",
    "最後再將 testing data 送進訓練完的 model 來查看結果。\n",
    "\n",
    "---"
   ]
  },
  {
   "cell_type": "code",
   "execution_count": 120,
   "metadata": {},
   "outputs": [
    {
     "name": "stdout",
     "output_type": "stream",
     "text": [
      "The shape of df: (37517, 2417)\n"
     ]
    }
   ],
   "source": [
    "print('The shape of df:', df.shape)"
   ]
  },
  {
   "cell_type": "code",
   "execution_count": 121,
   "metadata": {},
   "outputs": [],
   "source": [
    "df_train = df.iloc[:33254,:]\n",
    "df_test = df.iloc[33254:,:]"
   ]
  },
  {
   "cell_type": "code",
   "execution_count": 122,
   "metadata": {},
   "outputs": [
    {
     "name": "stdout",
     "output_type": "stream",
     "text": [
      "The shape of df_train: (33254, 2417)\n",
      "The shape of df_test: (4263, 2417)\n"
     ]
    }
   ],
   "source": [
    "print('The shape of df_train:', df_train.shape)\n",
    "print('The shape of df_test:', df_test.shape)"
   ]
  },
  {
   "cell_type": "markdown",
   "metadata": {},
   "source": [
    "----\n",
    "不要忘記，還需要再將 validation set 給切分出來。<br>\n",
    "\n",
    "---"
   ]
  },
  {
   "cell_type": "code",
   "execution_count": 123,
   "metadata": {},
   "outputs": [],
   "source": [
    "from sklearn.model_selection import train_test_split\n",
    "\n",
    "# x_train, x_valid, y_train, y_valid = train_test_split(df_train, log_MilkYield, test_size=0.2, random_state= 12, shuffle=True)\n",
    "x_train, x_test, y_train, y_test = train_test_split(df_train, trainMilkYield, test_size=0.2, random_state= 34)\n",
    "x_train, x_valid, y_train, y_valid = train_test_split(x_train, y_train, test_size=0.1, random_state= 34)"
   ]
  },
  {
   "cell_type": "code",
   "execution_count": 124,
   "metadata": {},
   "outputs": [
    {
     "name": "stdout",
     "output_type": "stream",
     "text": [
      "x_train (23942, 2417)\n",
      "y_train (23942,)\n",
      "x_test (6651, 2417)\n",
      "y_test (6651,)\n",
      "x_valid (2661, 2417)\n",
      "y_valid (2661,)\n",
      "df_test (4263, 2417) \n",
      "\n"
     ]
    }
   ],
   "source": [
    "print('x_train', x_train.shape)\n",
    "print('y_train', y_train.shape)\n",
    "print('x_test', x_test.shape)\n",
    "print('y_test', y_test.shape)\n",
    "print('x_valid', x_valid.shape)\n",
    "print('y_valid', y_valid.shape)\n",
    "print('df_test', df_test.shape, '\\n')"
   ]
  },
  {
   "cell_type": "markdown",
   "metadata": {},
   "source": [
    "----\n",
    "XGBoost：\n",
    "\n",
    "---"
   ]
  },
  {
   "cell_type": "code",
   "execution_count": 125,
   "metadata": {},
   "outputs": [],
   "source": [
    "from sklearn.model_selection import train_test_split, KFold, cross_val_score, GridSearchCV, RandomizedSearchCV\n",
    "from sklearn.metrics import mean_squared_error\n",
    "from xgboost.sklearn import XGBRegressor\n",
    "import xgboost as xgb\n",
    "from sklearn.model_selection import RandomizedSearchCV"
   ]
  },
  {
   "cell_type": "code",
   "execution_count": 126,
   "metadata": {},
   "outputs": [],
   "source": [
    "def rmsle(y, y_pred):\n",
    "    return np.sqrt(mean_squared_error(y, y_pred))   "
   ]
  },
  {
   "cell_type": "code",
   "execution_count": 62,
   "metadata": {},
   "outputs": [],
   "source": [
    "model_xgb = XGBRegressor(\n",
    "                    objective= 'reg:squarederror',\n",
    "                    eval_metric='rmse',\n",
    "                    gamma = 0.1,\n",
    "                    min_child_weight= 3,\n",
    "                    max_depth= 6,\n",
    "                    subsample= 0.8,\n",
    "                    colsample_bytree= 0.8,\n",
    "                    tree_method= 'exact',\n",
    "                    learning_rate=0.1,\n",
    "                    n_estimators=1000,\n",
    "                    nthread=4,\n",
    "                    scale_pos_weight=1,\n",
    "                    reg_alpha=0.05,                           \n",
    "                    seed=88,\n",
    "                    early_stopping_rounds=10,\n",
    "                    eval_set=[(x_valid, y_valid)])"
   ]
  },
  {
   "cell_type": "code",
   "execution_count": 63,
   "metadata": {},
   "outputs": [
    {
     "name": "stdout",
     "output_type": "stream",
     "text": [
      "5.0421815170396895\n",
      "5.104679962454721\n"
     ]
    }
   ],
   "source": [
    "model_xgb.fit(x_train, y_train)\n",
    "xgb_train_pred_v = model_xgb.predict(x_valid)\n",
    "print(rmsle(y_valid, xgb_train_pred_v))\n",
    "xgb_train_pred_t = model_xgb.predict(x_test)\n",
    "print(rmsle(y_test, xgb_train_pred_t))\n",
    "xgb_pred = model_xgb.predict(df_test)"
   ]
  },
  {
   "cell_type": "code",
   "execution_count": 64,
   "metadata": {},
   "outputs": [
    {
     "data": {
      "text/plain": [
       "Text(0.5, 0, 'Xgboost Feature Importance')"
      ]
     },
     "execution_count": 64,
     "metadata": {},
     "output_type": "execute_result"
    },
    {
     "data": {
      "image/png": "[encoded data removed]",
      "text/plain": [
       "<Figure size 720x576 with 1 Axes>"
      ]
     },
     "metadata": {
      "needs_background": "light"
     },
     "output_type": "display_data"
    }
   ],
   "source": [
    "sorted_idx = model_xgb.feature_importances_.argsort()\n",
    "plt.figure(figsize=(10,8))\n",
    "plt.barh(df.columns[sorted_idx], model_xgb.feature_importances_[sorted_idx])\n",
    "plt.xlabel(\"Xgboost Feature Importance\")"
   ]
  },
  {
   "cell_type": "code",
   "execution_count": 65,
   "metadata": {},
   "outputs": [
    {
     "data": {
      "text/plain": [
       "[<matplotlib.lines.Line2D at 0x7efc75f62e80>]"
      ]
     },
     "execution_count": 65,
     "metadata": {},
     "output_type": "execute_result"
    },
    {
     "data": {
      "image/png": "[encoded data removed]",
      "text/plain": [
       "<Figure size 1440x360 with 1 Axes>"
      ]
     },
     "metadata": {
      "needs_background": "light"
     },
     "output_type": "display_data"
    }
   ],
   "source": [
    "plt.figure(figsize=(20,5))\n",
    "plt.plot(xgb_pred)"
   ]
  },
  {
   "cell_type": "markdown",
   "metadata": {},
   "source": [
    "----\n",
    " GridSearchCV：\n",
    "\n",
    "---"
   ]
  },
  {
   "cell_type": "code",
   "execution_count": 70,
   "metadata": {},
   "outputs": [],
   "source": [
    "model_xgb = XGBRegressor(\n",
    "                    objective= 'reg:squarederror',\n",
    "                    eval_metric='rmse',\n",
    "                    gamma = 0.1,\n",
    "                    min_child_weight= 3,\n",
    "                    max_depth= 6,\n",
    "                    subsample= 0.8,\n",
    "                    colsample_bytree= 0.8,\n",
    "                    tree_method='exact',\n",
    "                    learning_rate=0.1,\n",
    "                    n_estimators=1000,\n",
    "                    nthread=4,\n",
    "                    scale_pos_weight=1,\n",
    "                    reg_alpha=0.05,                           \n",
    "                    seed=88,\n",
    "                    early_stopping_rounds=10,\n",
    "                    eval_set=[(x_valid, y_valid)])"
   ]
  },
  {
   "cell_type": "code",
   "execution_count": 71,
   "metadata": {},
   "outputs": [
    {
     "name": "stdout",
     "output_type": "stream",
     "text": [
      "Fitting 3 folds for each of 5 candidates, totalling 15 fits\n"
     ]
    },
    {
     "name": "stderr",
     "output_type": "stream",
     "text": [
      "[Parallel(n_jobs=1)]: Using backend SequentialBackend with 1 concurrent workers.\n",
      "[Parallel(n_jobs=1)]: Done  15 out of  15 | elapsed: 106.3min finished\n"
     ]
    },
    {
     "name": "stdout",
     "output_type": "stream",
     "text": [
      "Best Params:{'reg_alpha': 1}\n",
      "Best Score:0.2937174488309583\n"
     ]
    }
   ],
   "source": [
    "'''\n",
    "    'max_depth':[3,5,7,9],\n",
    "    'min_child_weight':[1,3,5,7],\n",
    "    'gamma':[i/10.0 for i in range(0,5)],\n",
    "    'subsample':[i/10.0 for i in range(6,10)],\n",
    "    'colsample_bytree':[i/10.0 for i in range(6,10)],\n",
    "    'reg_alpha':[1e-5, 1e-2, 0.1, 1, 100],\n",
    "    'n_estimators':[50, 100, 200, 500,1000],\n",
    "    'learning_rate':[0.1,0.01,0.001],\n",
    "    'n_estimators': [300,500,800,1000,1200]\n",
    "'''\n",
    "\n",
    "parameters = {\n",
    "     'reg_alpha':[1e-5, 1e-2, 0.1, 1, 100],\n",
    "}\n",
    "\n",
    "gsearch = GridSearchCV(model_xgb, param_grid=parameters, scoring='neg_mean_squared_error', cv=3, verbose=1)\n",
    "gsearch.fit(x_train,y_train)\n",
    "print('Best Params:{0}'.format(gsearch.best_params_))\n",
    "print('Best Score:{0}'.format(np.sqrt(-gsearch.best_score_)))"
   ]
  },
  {
   "cell_type": "markdown",
   "metadata": {},
   "source": [
    "----\n",
    "RandomizedSearchCV：\n",
    "\n",
    "---"
   ]
  },
  {
   "cell_type": "code",
   "execution_count": 127,
   "metadata": {},
   "outputs": [
    {
     "name": "stdout",
     "output_type": "stream",
     "text": [
      "Randomized search..\n",
      "Fitting 2 folds for each of 10 candidates, totalling 20 fits\n",
      "[CV] subsample=0.6, reg_alpha=1, n_estimators=1000, min_child_weight=3, max_depth=3, learning_rate=0.001, gamma=0.1, colsample_bytree=0.7 \n"
     ]
    },
    {
     "name": "stderr",
     "output_type": "stream",
     "text": [
      "[Parallel(n_jobs=1)]: Using backend SequentialBackend with 1 concurrent workers.\n"
     ]
    },
    {
     "name": "stdout",
     "output_type": "stream",
     "text": [
      "[CV]  subsample=0.6, reg_alpha=1, n_estimators=1000, min_child_weight=3, max_depth=3, learning_rate=0.001, gamma=0.1, colsample_bytree=0.7, total= 3.2min\n",
      "[CV] subsample=0.6, reg_alpha=1, n_estimators=1000, min_child_weight=3, max_depth=3, learning_rate=0.001, gamma=0.1, colsample_bytree=0.7 \n"
     ]
    },
    {
     "name": "stderr",
     "output_type": "stream",
     "text": [
      "[Parallel(n_jobs=1)]: Done   1 out of   1 | elapsed:  3.2min remaining:    0.0s\n"
     ]
    },
    {
     "name": "stdout",
     "output_type": "stream",
     "text": [
      "[CV]  subsample=0.6, reg_alpha=1, n_estimators=1000, min_child_weight=3, max_depth=3, learning_rate=0.001, gamma=0.1, colsample_bytree=0.7, total= 3.2min\n",
      "[CV] subsample=0.9, reg_alpha=0.01, n_estimators=1000, min_child_weight=5, max_depth=7, learning_rate=0.1, gamma=0.4, colsample_bytree=0.6 \n",
      "[CV]  subsample=0.9, reg_alpha=0.01, n_estimators=1000, min_child_weight=5, max_depth=7, learning_rate=0.1, gamma=0.4, colsample_bytree=0.6, total= 5.2min\n",
      "[CV] subsample=0.9, reg_alpha=0.01, n_estimators=1000, min_child_weight=5, max_depth=7, learning_rate=0.1, gamma=0.4, colsample_bytree=0.6 \n",
      "[CV]  subsample=0.9, reg_alpha=0.01, n_estimators=1000, min_child_weight=5, max_depth=7, learning_rate=0.1, gamma=0.4, colsample_bytree=0.6, total= 5.2min\n",
      "[CV] subsample=0.7, reg_alpha=1e-05, n_estimators=1000, min_child_weight=1, max_depth=9, learning_rate=0.01, gamma=0.2, colsample_bytree=0.6 \n",
      "[CV]  subsample=0.7, reg_alpha=1e-05, n_estimators=1000, min_child_weight=1, max_depth=9, learning_rate=0.01, gamma=0.2, colsample_bytree=0.6, total= 7.4min\n",
      "[CV] subsample=0.7, reg_alpha=1e-05, n_estimators=1000, min_child_weight=1, max_depth=9, learning_rate=0.01, gamma=0.2, colsample_bytree=0.6 \n",
      "[CV]  subsample=0.7, reg_alpha=1e-05, n_estimators=1000, min_child_weight=1, max_depth=9, learning_rate=0.01, gamma=0.2, colsample_bytree=0.6, total= 7.4min\n",
      "[CV] subsample=0.8, reg_alpha=0.1, n_estimators=1000, min_child_weight=3, max_depth=7, learning_rate=0.1, gamma=0.0, colsample_bytree=0.8 \n",
      "[CV]  subsample=0.8, reg_alpha=0.1, n_estimators=1000, min_child_weight=3, max_depth=7, learning_rate=0.1, gamma=0.0, colsample_bytree=0.8, total= 7.2min\n",
      "[CV] subsample=0.8, reg_alpha=0.1, n_estimators=1000, min_child_weight=3, max_depth=7, learning_rate=0.1, gamma=0.0, colsample_bytree=0.8 \n",
      "[CV]  subsample=0.8, reg_alpha=0.1, n_estimators=1000, min_child_weight=3, max_depth=7, learning_rate=0.1, gamma=0.0, colsample_bytree=0.8, total= 7.2min\n",
      "[CV] subsample=0.7, reg_alpha=1, n_estimators=1000, min_child_weight=3, max_depth=3, learning_rate=0.01, gamma=0.3, colsample_bytree=0.7 \n",
      "[CV]  subsample=0.7, reg_alpha=1, n_estimators=1000, min_child_weight=3, max_depth=3, learning_rate=0.01, gamma=0.3, colsample_bytree=0.7, total= 3.1min\n",
      "[CV] subsample=0.7, reg_alpha=1, n_estimators=1000, min_child_weight=3, max_depth=3, learning_rate=0.01, gamma=0.3, colsample_bytree=0.7 \n",
      "[CV]  subsample=0.7, reg_alpha=1, n_estimators=1000, min_child_weight=3, max_depth=3, learning_rate=0.01, gamma=0.3, colsample_bytree=0.7, total= 3.1min\n",
      "[CV] subsample=0.7, reg_alpha=1e-05, n_estimators=1000, min_child_weight=3, max_depth=9, learning_rate=0.001, gamma=0.1, colsample_bytree=0.8 \n",
      "[CV]  subsample=0.7, reg_alpha=1e-05, n_estimators=1000, min_child_weight=3, max_depth=9, learning_rate=0.001, gamma=0.1, colsample_bytree=0.8, total= 9.7min\n",
      "[CV] subsample=0.7, reg_alpha=1e-05, n_estimators=1000, min_child_weight=3, max_depth=9, learning_rate=0.001, gamma=0.1, colsample_bytree=0.8 \n",
      "[CV]  subsample=0.7, reg_alpha=1e-05, n_estimators=1000, min_child_weight=3, max_depth=9, learning_rate=0.001, gamma=0.1, colsample_bytree=0.8, total= 9.7min\n",
      "[CV] subsample=0.6, reg_alpha=1e-05, n_estimators=1000, min_child_weight=7, max_depth=9, learning_rate=0.001, gamma=0.0, colsample_bytree=0.7 \n",
      "[CV]  subsample=0.6, reg_alpha=1e-05, n_estimators=1000, min_child_weight=7, max_depth=9, learning_rate=0.001, gamma=0.0, colsample_bytree=0.7, total= 8.6min\n",
      "[CV] subsample=0.6, reg_alpha=1e-05, n_estimators=1000, min_child_weight=7, max_depth=9, learning_rate=0.001, gamma=0.0, colsample_bytree=0.7 \n",
      "[CV]  subsample=0.6, reg_alpha=1e-05, n_estimators=1000, min_child_weight=7, max_depth=9, learning_rate=0.001, gamma=0.0, colsample_bytree=0.7, total= 8.6min\n",
      "[CV] subsample=0.6, reg_alpha=0.1, n_estimators=1000, min_child_weight=5, max_depth=3, learning_rate=0.1, gamma=0.0, colsample_bytree=0.8 \n",
      "[CV]  subsample=0.6, reg_alpha=0.1, n_estimators=1000, min_child_weight=5, max_depth=3, learning_rate=0.1, gamma=0.0, colsample_bytree=0.8, total= 3.6min\n",
      "[CV] subsample=0.6, reg_alpha=0.1, n_estimators=1000, min_child_weight=5, max_depth=3, learning_rate=0.1, gamma=0.0, colsample_bytree=0.8 \n",
      "[CV]  subsample=0.6, reg_alpha=0.1, n_estimators=1000, min_child_weight=5, max_depth=3, learning_rate=0.1, gamma=0.0, colsample_bytree=0.8, total= 3.6min\n",
      "[CV] subsample=0.8, reg_alpha=1, n_estimators=1000, min_child_weight=3, max_depth=3, learning_rate=0.01, gamma=0.3, colsample_bytree=0.8 \n",
      "[CV]  subsample=0.8, reg_alpha=1, n_estimators=1000, min_child_weight=3, max_depth=3, learning_rate=0.01, gamma=0.3, colsample_bytree=0.8, total= 3.4min\n",
      "[CV] subsample=0.8, reg_alpha=1, n_estimators=1000, min_child_weight=3, max_depth=3, learning_rate=0.01, gamma=0.3, colsample_bytree=0.8 \n",
      "[CV]  subsample=0.8, reg_alpha=1, n_estimators=1000, min_child_weight=3, max_depth=3, learning_rate=0.01, gamma=0.3, colsample_bytree=0.8, total= 3.4min\n",
      "[CV] subsample=0.6, reg_alpha=0.01, n_estimators=1000, min_child_weight=1, max_depth=3, learning_rate=0.01, gamma=0.2, colsample_bytree=0.7 \n",
      "[CV]  subsample=0.6, reg_alpha=0.01, n_estimators=1000, min_child_weight=1, max_depth=3, learning_rate=0.01, gamma=0.2, colsample_bytree=0.7, total= 3.3min\n",
      "[CV] subsample=0.6, reg_alpha=0.01, n_estimators=1000, min_child_weight=1, max_depth=3, learning_rate=0.01, gamma=0.2, colsample_bytree=0.7 \n",
      "[CV]  subsample=0.6, reg_alpha=0.01, n_estimators=1000, min_child_weight=1, max_depth=3, learning_rate=0.01, gamma=0.2, colsample_bytree=0.7, total= 3.3min\n",
      "Randomized search time: 6567.782114744186\n",
      "Best score: 5.256053937919994\n",
      "Best params: \n"
     ]
    },
    {
     "name": "stderr",
     "output_type": "stream",
     "text": [
      "[Parallel(n_jobs=1)]: Done  20 out of  20 | elapsed: 109.5min finished\n"
     ]
    },
    {
     "data": {
      "text/plain": [
       "{'subsample': 0.8,\n",
       " 'reg_alpha': 0.1,\n",
       " 'n_estimators': 1000,\n",
       " 'min_child_weight': 3,\n",
       " 'max_depth': 7,\n",
       " 'learning_rate': 0.1,\n",
       " 'gamma': 0.0,\n",
       " 'colsample_bytree': 0.8}"
      ]
     },
     "execution_count": 127,
     "metadata": {},
     "output_type": "execute_result"
    }
   ],
   "source": [
    "import time\n",
    "\n",
    "model_xgb = XGBRegressor(\n",
    "                    objective= 'reg:squarederror',\n",
    "                    eval_metric='rmse',\n",
    "                    gamma = 0.1,\n",
    "                    min_child_weight= 3,\n",
    "                    max_depth= 5,\n",
    "                    subsample= 0.8,\n",
    "                    colsample_bytree= 0.8,\n",
    "                    tree_method= 'exact',\n",
    "                    learning_rate=0.1,\n",
    "                    n_estimators=1000,\n",
    "                    nthread=4,\n",
    "                    scale_pos_weight=1,\n",
    "                    reg_alpha=0.05,                           \n",
    "                    seed=88,\n",
    "                    early_stopping_rounds=10,\n",
    "                    eval_set=[(x_valid, y_valid)])\n",
    "\n",
    "param_grid = {\n",
    "    'max_depth':[3,5,7,9],\n",
    "    'min_child_weight':[1,3,5,7],\n",
    "    'gamma':[i/10.0 for i in range(0,5)],\n",
    "    'subsample':[i/10.0 for i in range(6,10)],\n",
    "    'colsample_bytree':[i/10.0 for i in range(6,10)],\n",
    "    'reg_alpha':[1e-5, 1e-2, 0.1, 1, 100],\n",
    "    'n_estimators':[50, 100, 200, 500,1000],\n",
    "    'learning_rate':[0.1,0.01,0.001],\n",
    "    'n_estimators': [1000]\n",
    "}\n",
    "\n",
    "rs_xgb = RandomizedSearchCV(model_xgb, param_grid, n_iter=10,\n",
    "                            verbose=2,  cv=2,\n",
    "                            scoring='neg_mean_squared_error', refit=False, random_state=88)\n",
    "print(\"Randomized search..\")\n",
    "search_time_start = time.time()\n",
    "rs_xgb.fit(x_train, y_train)\n",
    "print(\"Randomized search time:\", time.time() - search_time_start)\n",
    "\n",
    "best_score = np.sqrt(-rs_xgb.best_score_)\n",
    "best_params = rs_xgb.best_params_\n",
    "print(\"Best score: {}\".format(best_score))\n",
    "print(\"Best params: \")\n",
    "best_params"
   ]
  },
  {
   "cell_type": "code",
   "execution_count": 128,
   "metadata": {},
   "outputs": [],
   "source": [
    "model_xgb = XGBRegressor(\n",
    "                    objective= 'reg:squarederror',\n",
    "                    eval_metric='rmse',\n",
    "                    gamma = 0.0,\n",
    "                    min_child_weight= 3,\n",
    "                    max_depth= 7,\n",
    "                    subsample= 0.8,\n",
    "                    colsample_bytree= 0.8,\n",
    "                    tree_method='exact',\n",
    "                    learning_rate=0.1,\n",
    "                    n_estimators=1000,\n",
    "                    nthread=4,\n",
    "                    scale_pos_weight=1,\n",
    "                    reg_alpha=0.1,                           \n",
    "                    seed=88,\n",
    "                    #predictor='gpu_predictor',\n",
    "                    early_stopping_rounds=10,\n",
    "                    eval_set=[(x_valid, y_valid)])"
   ]
  },
  {
   "cell_type": "code",
   "execution_count": 131,
   "metadata": {},
   "outputs": [
    {
     "name": "stdout",
     "output_type": "stream",
     "text": [
      "4.962883363069025\n",
      "5.0087455757120525\n"
     ]
    }
   ],
   "source": [
    "model_xgb.fit(x_train, y_train)\n",
    "xgb_train_pred_v = model_xgb.predict(x_valid)\n",
    "print(rmsle(y_valid, xgb_train_pred_v))\n",
    "xgb_train_pred_t = model_xgb.predict(x_test)\n",
    "print(rmsle(y_test, xgb_train_pred_t))\n",
    "xgb_pred = model_xgb.predict(df_test)"
   ]
  },
  {
   "cell_type": "code",
   "execution_count": 133,
   "metadata": {},
   "outputs": [
    {
     "data": {
      "text/plain": [
       "Text(0.5, 0, 'Xgboost Feature Importance')"
      ]
     },
     "execution_count": 133,
     "metadata": {},
     "output_type": "execute_result"
    },
    {
     "data": {
      "image/png": "[encoded data removed]",
      "text/plain": [
       "<Figure size 720x576 with 1 Axes>"
      ]
     },
     "metadata": {
      "needs_background": "light"
     },
     "output_type": "display_data"
    }
   ],
   "source": [
    "sorted_idx = model_xgb.feature_importances_.argsort()\n",
    "plt.figure(figsize=(10,8))\n",
    "plt.barh(df.columns[sorted_idx], model_xgb.feature_importances_[sorted_idx])\n",
    "plt.xlabel(\"Xgboost Feature Importance\")"
   ]
  },
  {
   "cell_type": "code",
   "execution_count": 134,
   "metadata": {},
   "outputs": [
    {
     "data": {
      "text/plain": [
       "[<matplotlib.lines.Line2D at 0x7efcca8dfb70>]"
      ]
     },
     "execution_count": 134,
     "metadata": {},
     "output_type": "execute_result"
    },
    {
     "data": {
      "image/png": "[encoded data removed]",
      "text/plain": [
       "<Figure size 1440x360 with 1 Axes>"
      ]
     },
     "metadata": {
      "needs_background": "light"
     },
     "output_type": "display_data"
    }
   ],
   "source": [
    "plt.figure(figsize=(20,5))\n",
    "plt.plot(xgb_pred)"
   ]
  },
  {
   "cell_type": "markdown",
   "metadata": {},
   "source": [
    "----\n",
    "再把我們預測出來的資料依照 sample_submission.csv 的格式輸出成 csv 檔就可以上傳到 kaggle 囉！\n",
    "\n",
    "---"
   ]
  },
  {
   "cell_type": "code",
   "execution_count": 135,
   "metadata": {},
   "outputs": [],
   "source": [
    "sub = pd.read_csv('./submission.csv')\n",
    "test_submission = pd.DataFrame({'ID':sub['ID'], '11': xgb_pred})\n",
    "test_submission.to_csv('./submission_XGB3.csv', index = False)"
   ]
  },
  {
   "cell_type": "code",
   "execution_count": null,
   "metadata": {},
   "outputs": [],
   "source": []
  }
 ],
 "metadata": {
  "kernelspec": {
   "display_name": "Python 3",
   "language": "python",
   "name": "python3"
  },
  "language_info": {
   "codemirror_mode": {
    "name": "ipython",
    "version": 3
   },
   "file_extension": ".py",
   "mimetype": "text/x-python",
   "name": "python",
   "nbconvert_exporter": "python",
   "pygments_lexer": "ipython3",
   "version": "3.7.3"
  }
 },
 "nbformat": 4,
 "nbformat_minor": 4
}
